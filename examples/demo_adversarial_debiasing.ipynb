{
 "cells": [
  {
   "cell_type": "markdown",
   "metadata": {},
   "source": [
    "#### This notebook demonstrates the use of adversarial debiasing algorithm to learn a fair classifier.\n",
    "Adversarial debiasing [1] is an in-processing technique that learns a classifier to maximize prediction accuracy and simultaneously reduce an adversary's ability to determine the protected attribute from the predictions. This approach leads to a fair classifier as the predictions cannot carry any group discrimination information that the adversary can exploit. We will see how to use this algorithm for learning models with and without fairness constraints and apply them on the Adult dataset."
   ]
  },
  {
   "cell_type": "code",
   "execution_count": 4,
   "metadata": {
    "pycharm": {
     "is_executing": true
    }
   },
   "outputs": [],
   "source": [
    "%matplotlib inline\n",
    "# Load all necessary packages\n",
    "import sys\n",
    "sys.path.append(\"../\")\n",
    "from aif360.datasets import BinaryLabelDataset\n",
    "from aif360.datasets import AdultDataset, GermanDataset, CompasDataset\n",
    "from aif360.metrics import BinaryLabelDatasetMetric\n",
    "from aif360.metrics import ClassificationMetric\n",
    "from aif360.metrics.utils import compute_boolean_conditioning_vector\n",
    "\n",
    "from aif360.algorithms.preprocessing.optim_preproc_helpers.data_preproc_functions import load_preproc_data_adult, load_preproc_data_compas, load_preproc_data_german\n",
    "\n",
    "from aif360.algorithms.inprocessing.adversarial_debiasing import AdversarialDebiasing\n",
    "\n",
    "from sklearn.linear_model import LogisticRegression\n",
    "from sklearn.preprocessing import StandardScaler, MaxAbsScaler\n",
    "from sklearn.metrics import accuracy_score\n",
    "\n",
    "from IPython.display import Markdown, display\n",
    "import matplotlib.pyplot as plt\n",
    "\n",
    "import tensorflow.compat.v1 as tf\n",
    "tf.disable_eager_execution()"
   ]
  },
  {
   "cell_type": "markdown",
   "metadata": {},
   "source": [
    "#### Load dataset and set options"
   ]
  },
  {
   "cell_type": "code",
   "execution_count": 9,
   "metadata": {},
   "outputs": [],
   "source": [
    "# Get the dataset and split into train and test\n",
    "dataset_orig = load_preproc_data_adult()\n",
    "\n",
    "privileged_groups = [{'sex': 1}]\n",
    "unprivileged_groups = [{'sex': 0}]\n",
    "\n",
    "dataset_orig_train, dataset_orig_test = dataset_orig.split([0.8], shuffle=True)"
   ]
  },
  {
   "cell_type": "code",
   "execution_count": 10,
   "metadata": {},
   "outputs": [
    {
     "data": {
      "text/markdown": [
       "#### Training Dataset shape"
      ],
      "text/plain": [
       "<IPython.core.display.Markdown object>"
      ]
     },
     "metadata": {},
     "output_type": "display_data"
    },
    {
     "name": "stdout",
     "output_type": "stream",
     "text": [
      "(39073, 18)\n"
     ]
    },
    {
     "data": {
      "text/markdown": [
       "#### Favorable and unfavorable labels"
      ],
      "text/plain": [
       "<IPython.core.display.Markdown object>"
      ]
     },
     "metadata": {},
     "output_type": "display_data"
    },
    {
     "name": "stdout",
     "output_type": "stream",
     "text": [
      "1.0 0.0\n"
     ]
    },
    {
     "data": {
      "text/markdown": [
       "#### Protected attribute names"
      ],
      "text/plain": [
       "<IPython.core.display.Markdown object>"
      ]
     },
     "metadata": {},
     "output_type": "display_data"
    },
    {
     "name": "stdout",
     "output_type": "stream",
     "text": [
      "['sex', 'race']\n"
     ]
    },
    {
     "data": {
      "text/markdown": [
       "#### Privileged and unprivileged protected attribute values"
      ],
      "text/plain": [
       "<IPython.core.display.Markdown object>"
      ]
     },
     "metadata": {},
     "output_type": "display_data"
    },
    {
     "name": "stdout",
     "output_type": "stream",
     "text": [
      "[array([1.]), array([1.])] [array([0.]), array([0.])]\n"
     ]
    },
    {
     "data": {
      "text/markdown": [
       "#### Dataset feature names"
      ],
      "text/plain": [
       "<IPython.core.display.Markdown object>"
      ]
     },
     "metadata": {},
     "output_type": "display_data"
    },
    {
     "name": "stdout",
     "output_type": "stream",
     "text": [
      "['race', 'sex', 'Age (decade)=10', 'Age (decade)=20', 'Age (decade)=30', 'Age (decade)=40', 'Age (decade)=50', 'Age (decade)=60', 'Age (decade)=>=70', 'Education Years=6', 'Education Years=7', 'Education Years=8', 'Education Years=9', 'Education Years=10', 'Education Years=11', 'Education Years=12', 'Education Years=<6', 'Education Years=>12']\n"
     ]
    }
   ],
   "source": [
    "# print out some labels, names, etc.\n",
    "display(Markdown(\"#### Training Dataset shape\"))\n",
    "print(dataset_orig_train.features.shape)\n",
    "display(Markdown(\"#### Favorable and unfavorable labels\"))\n",
    "print(dataset_orig_train.favorable_label, dataset_orig_train.unfavorable_label)\n",
    "display(Markdown(\"#### Protected attribute names\"))\n",
    "print(dataset_orig_train.protected_attribute_names)\n",
    "display(Markdown(\"#### Privileged and unprivileged protected attribute values\"))\n",
    "print(dataset_orig_train.privileged_protected_attributes, \n",
    "      dataset_orig_train.unprivileged_protected_attributes)\n",
    "display(Markdown(\"#### Dataset feature names\"))\n",
    "print(dataset_orig_train.feature_names)"
   ]
  },
  {
   "cell_type": "markdown",
   "metadata": {},
   "source": [
    "#### Metric for original training data"
   ]
  },
  {
   "cell_type": "code",
   "execution_count": 12,
   "metadata": {},
   "outputs": [
    {
     "data": {
      "text/markdown": [
       "#### Original training dataset"
      ],
      "text/plain": [
       "<IPython.core.display.Markdown object>"
      ]
     },
     "metadata": {},
     "output_type": "display_data"
    },
    {
     "name": "stdout",
     "output_type": "stream",
     "text": [
      "Train set: Difference in mean outcomes between unprivileged and privileged groups = -0.193763\n",
      "Test set: Difference in mean outcomes between unprivileged and privileged groups = -0.197509\n"
     ]
    }
   ],
   "source": [
    "# Metric for the original dataset\n",
    "metric_orig_train = BinaryLabelDatasetMetric(dataset_orig_train, \n",
    "                                             unprivileged_groups=unprivileged_groups,\n",
    "                                             privileged_groups=privileged_groups)\n",
    "display(Markdown(\"#### Original training dataset\"))\n",
    "print(\"Train set: Difference in mean outcomes between unprivileged and privileged groups = %f\" % metric_orig_train.mean_difference())\n",
    "metric_orig_test = BinaryLabelDatasetMetric(dataset_orig_test, \n",
    "                                             unprivileged_groups=unprivileged_groups,\n",
    "                                             privileged_groups=privileged_groups)\n",
    "print(\"Test set: Difference in mean outcomes between unprivileged and privileged groups = %f\" % metric_orig_test.mean_difference())"
   ]
  },
  {
   "cell_type": "code",
   "execution_count": 13,
   "metadata": {},
   "outputs": [
    {
     "data": {
      "text/markdown": [
       "#### Scaled dataset - Verify that the scaling does not affect the group label statistics"
      ],
      "text/plain": [
       "<IPython.core.display.Markdown object>"
      ]
     },
     "metadata": {},
     "output_type": "display_data"
    },
    {
     "name": "stdout",
     "output_type": "stream",
     "text": [
      "Train set: Difference in mean outcomes between unprivileged and privileged groups = -0.193763\n",
      "Test set: Difference in mean outcomes between unprivileged and privileged groups = -0.197509\n"
     ]
    }
   ],
   "source": [
    "min_max_scaler = MaxAbsScaler()\n",
    "dataset_orig_train.features = min_max_scaler.fit_transform(dataset_orig_train.features)\n",
    "dataset_orig_test.features = min_max_scaler.transform(dataset_orig_test.features)\n",
    "metric_scaled_train = BinaryLabelDatasetMetric(dataset_orig_train, \n",
    "                             unprivileged_groups=unprivileged_groups,\n",
    "                             privileged_groups=privileged_groups)\n",
    "display(Markdown(\"#### Scaled dataset - Verify that the scaling does not affect the group label statistics\"))\n",
    "print(\"Train set: Difference in mean outcomes between unprivileged and privileged groups = %f\" % metric_scaled_train.mean_difference())\n",
    "metric_scaled_test = BinaryLabelDatasetMetric(dataset_orig_test, \n",
    "                             unprivileged_groups=unprivileged_groups,\n",
    "                             privileged_groups=privileged_groups)\n",
    "print(\"Test set: Difference in mean outcomes between unprivileged and privileged groups = %f\" % metric_scaled_test.mean_difference())\n"
   ]
  },
  {
   "cell_type": "markdown",
   "metadata": {},
   "source": [
    "### Learn plan classifier without debiasing"
   ]
  },
  {
   "cell_type": "code",
   "execution_count": 15,
   "metadata": {},
   "outputs": [],
   "source": [
    "# Load post-processing algorithm that equalizes the odds\n",
    "# Learn parameters with debias set to False\n",
    "sess = tf.Session()\n",
    "plain_model = AdversarialDebiasing(privileged_groups = privileged_groups,\n",
    "                          unprivileged_groups = unprivileged_groups,\n",
    "                          scope_name='plain_classifier',\n",
    "                          debias=False,\n",
    "                          sess=sess)"
   ]
  },
  {
   "cell_type": "code",
   "execution_count": 16,
   "metadata": {
    "scrolled": true
   },
   "outputs": [
    {
     "name": "stdout",
     "output_type": "stream",
     "text": [
      "WARNING:tensorflow:From D:\\PycharmProjects\\AIF360\\aif360\\algorithms\\inprocessing\\adversarial_debiasing.py:92: calling dropout (from tensorflow.python.ops.nn_ops) with keep_prob is deprecated and will be removed in a future version.\n",
      "Instructions for updating:\n",
      "Please use `rate` instead of `keep_prob`. Rate should be set to `rate = 1 - keep_prob`.\n",
      "WARNING:tensorflow:From D:\\Software\\anaconda3\\envs\\newtf115\\lib\\site-packages\\tensorflow_core\\python\\ops\\nn_impl.py:183: where (from tensorflow.python.ops.array_ops) is deprecated and will be removed in a future version.\n",
      "Instructions for updating:\n",
      "Use tf.where in 2.0, which has the same broadcast rule as np.where\n",
      "epoch 0; iter: 0; batch classifier loss: 0.705196\n",
      "epoch 0; iter: 200; batch classifier loss: 0.358285\n",
      "epoch 1; iter: 0; batch classifier loss: 0.389090\n",
      "epoch 1; iter: 200; batch classifier loss: 0.425235\n",
      "epoch 2; iter: 0; batch classifier loss: 0.385890\n",
      "epoch 2; iter: 200; batch classifier loss: 0.374792\n",
      "epoch 3; iter: 0; batch classifier loss: 0.387235\n",
      "epoch 3; iter: 200; batch classifier loss: 0.453503\n",
      "epoch 4; iter: 0; batch classifier loss: 0.349007\n",
      "epoch 4; iter: 200; batch classifier loss: 0.415231\n",
      "epoch 5; iter: 0; batch classifier loss: 0.451097\n",
      "epoch 5; iter: 200; batch classifier loss: 0.395569\n",
      "epoch 6; iter: 0; batch classifier loss: 0.422827\n",
      "epoch 6; iter: 200; batch classifier loss: 0.428589\n",
      "epoch 7; iter: 0; batch classifier loss: 0.461674\n",
      "epoch 7; iter: 200; batch classifier loss: 0.341725\n",
      "epoch 8; iter: 0; batch classifier loss: 0.428633\n",
      "epoch 8; iter: 200; batch classifier loss: 0.485396\n",
      "epoch 9; iter: 0; batch classifier loss: 0.399147\n",
      "epoch 9; iter: 200; batch classifier loss: 0.351805\n",
      "epoch 10; iter: 0; batch classifier loss: 0.374033\n",
      "epoch 10; iter: 200; batch classifier loss: 0.382130\n",
      "epoch 11; iter: 0; batch classifier loss: 0.485775\n",
      "epoch 11; iter: 200; batch classifier loss: 0.466178\n",
      "epoch 12; iter: 0; batch classifier loss: 0.461500\n",
      "epoch 12; iter: 200; batch classifier loss: 0.373097\n",
      "epoch 13; iter: 0; batch classifier loss: 0.462397\n",
      "epoch 13; iter: 200; batch classifier loss: 0.414276\n",
      "epoch 14; iter: 0; batch classifier loss: 0.455306\n",
      "epoch 14; iter: 200; batch classifier loss: 0.480342\n",
      "epoch 15; iter: 0; batch classifier loss: 0.431012\n",
      "epoch 15; iter: 200; batch classifier loss: 0.385292\n",
      "epoch 16; iter: 0; batch classifier loss: 0.465681\n",
      "epoch 16; iter: 200; batch classifier loss: 0.409848\n",
      "epoch 17; iter: 0; batch classifier loss: 0.425347\n",
      "epoch 17; iter: 200; batch classifier loss: 0.370350\n",
      "epoch 18; iter: 0; batch classifier loss: 0.462183\n",
      "epoch 18; iter: 200; batch classifier loss: 0.437534\n",
      "epoch 19; iter: 0; batch classifier loss: 0.364176\n",
      "epoch 19; iter: 200; batch classifier loss: 0.359379\n",
      "epoch 20; iter: 0; batch classifier loss: 0.391007\n",
      "epoch 20; iter: 200; batch classifier loss: 0.409034\n",
      "epoch 21; iter: 0; batch classifier loss: 0.415355\n",
      "epoch 21; iter: 200; batch classifier loss: 0.383166\n",
      "epoch 22; iter: 0; batch classifier loss: 0.465703\n",
      "epoch 22; iter: 200; batch classifier loss: 0.409233\n",
      "epoch 23; iter: 0; batch classifier loss: 0.437033\n",
      "epoch 23; iter: 200; batch classifier loss: 0.453378\n",
      "epoch 24; iter: 0; batch classifier loss: 0.438269\n",
      "epoch 24; iter: 200; batch classifier loss: 0.450631\n",
      "epoch 25; iter: 0; batch classifier loss: 0.452009\n",
      "epoch 25; iter: 200; batch classifier loss: 0.395073\n",
      "epoch 26; iter: 0; batch classifier loss: 0.465822\n",
      "epoch 26; iter: 200; batch classifier loss: 0.561380\n",
      "epoch 27; iter: 0; batch classifier loss: 0.467105\n",
      "epoch 27; iter: 200; batch classifier loss: 0.430279\n",
      "epoch 28; iter: 0; batch classifier loss: 0.416225\n",
      "epoch 28; iter: 200; batch classifier loss: 0.365319\n",
      "epoch 29; iter: 0; batch classifier loss: 0.437230\n",
      "epoch 29; iter: 200; batch classifier loss: 0.441213\n",
      "epoch 30; iter: 0; batch classifier loss: 0.460875\n",
      "epoch 30; iter: 200; batch classifier loss: 0.497634\n",
      "epoch 31; iter: 0; batch classifier loss: 0.370275\n",
      "epoch 31; iter: 200; batch classifier loss: 0.364997\n",
      "epoch 32; iter: 0; batch classifier loss: 0.456274\n",
      "epoch 32; iter: 200; batch classifier loss: 0.357486\n",
      "epoch 33; iter: 0; batch classifier loss: 0.478575\n",
      "epoch 33; iter: 200; batch classifier loss: 0.380791\n",
      "epoch 34; iter: 0; batch classifier loss: 0.439671\n",
      "epoch 34; iter: 200; batch classifier loss: 0.416740\n",
      "epoch 35; iter: 0; batch classifier loss: 0.491632\n",
      "epoch 35; iter: 200; batch classifier loss: 0.377777\n",
      "epoch 36; iter: 0; batch classifier loss: 0.439438\n",
      "epoch 36; iter: 200; batch classifier loss: 0.404331\n",
      "epoch 37; iter: 0; batch classifier loss: 0.361469\n",
      "epoch 37; iter: 200; batch classifier loss: 0.419144\n",
      "epoch 38; iter: 0; batch classifier loss: 0.370836\n",
      "epoch 38; iter: 200; batch classifier loss: 0.424788\n",
      "epoch 39; iter: 0; batch classifier loss: 0.426329\n",
      "epoch 39; iter: 200; batch classifier loss: 0.362197\n",
      "epoch 40; iter: 0; batch classifier loss: 0.407058\n",
      "epoch 40; iter: 200; batch classifier loss: 0.364098\n",
      "epoch 41; iter: 0; batch classifier loss: 0.481682\n",
      "epoch 41; iter: 200; batch classifier loss: 0.403388\n",
      "epoch 42; iter: 0; batch classifier loss: 0.407301\n",
      "epoch 42; iter: 200; batch classifier loss: 0.387662\n",
      "epoch 43; iter: 0; batch classifier loss: 0.376865\n",
      "epoch 43; iter: 200; batch classifier loss: 0.526196\n",
      "epoch 44; iter: 0; batch classifier loss: 0.383063\n",
      "epoch 44; iter: 200; batch classifier loss: 0.472174\n",
      "epoch 45; iter: 0; batch classifier loss: 0.381642\n",
      "epoch 45; iter: 200; batch classifier loss: 0.346022\n",
      "epoch 46; iter: 0; batch classifier loss: 0.386936\n",
      "epoch 46; iter: 200; batch classifier loss: 0.430366\n",
      "epoch 47; iter: 0; batch classifier loss: 0.394781\n",
      "epoch 47; iter: 200; batch classifier loss: 0.400608\n",
      "epoch 48; iter: 0; batch classifier loss: 0.360717\n",
      "epoch 48; iter: 200; batch classifier loss: 0.485509\n",
      "epoch 49; iter: 0; batch classifier loss: 0.409140\n",
      "epoch 49; iter: 200; batch classifier loss: 0.461002\n"
     ]
    },
    {
     "data": {
      "text/plain": [
       "<aif360.algorithms.inprocessing.adversarial_debiasing.AdversarialDebiasing at 0x1e237d543c8>"
      ]
     },
     "execution_count": 16,
     "metadata": {},
     "output_type": "execute_result"
    }
   ],
   "source": [
    "plain_model.fit(dataset_orig_train)"
   ]
  },
  {
   "cell_type": "code",
   "execution_count": 18,
   "metadata": {},
   "outputs": [],
   "source": [
    "# Apply the plain model to test data\n",
    "dataset_nodebiasing_train = plain_model.predict(dataset_orig_train)\n",
    "dataset_nodebiasing_test = plain_model.predict(dataset_orig_test)"
   ]
  },
  {
   "cell_type": "code",
   "execution_count": 20,
   "metadata": {},
   "outputs": [
    {
     "data": {
      "text/markdown": [
       "#### Plain model - without debiasing - dataset metrics"
      ],
      "text/plain": [
       "<IPython.core.display.Markdown object>"
      ]
     },
     "metadata": {},
     "output_type": "display_data"
    },
    {
     "name": "stdout",
     "output_type": "stream",
     "text": [
      "Train set: Difference in mean outcomes between unprivileged and privileged groups = -0.230958\n",
      "Test set: Difference in mean outcomes between unprivileged and privileged groups = -0.234504\n"
     ]
    },
    {
     "data": {
      "text/markdown": [
       "#### Plain model - without debiasing - classification metrics"
      ],
      "text/plain": [
       "<IPython.core.display.Markdown object>"
      ]
     },
     "metadata": {},
     "output_type": "display_data"
    },
    {
     "name": "stdout",
     "output_type": "stream",
     "text": [
      "Test set: Classification accuracy = 0.802232\n",
      "Test set: Balanced classification accuracy = 0.671035\n",
      "Test set: Disparate impact = 0.000000\n",
      "Test set: Equal opportunity difference = -0.489573\n",
      "Test set: Average odds difference = -0.305413\n",
      "Test set: Theil_index = 0.174329\n"
     ]
    }
   ],
   "source": [
    "# Metrics for the dataset from plain model (without debiasing)\n",
    "display(Markdown(\"#### Plain model - without debiasing - dataset metrics\"))\n",
    "metric_dataset_nodebiasing_train = BinaryLabelDatasetMetric(dataset_nodebiasing_train, \n",
    "                                             unprivileged_groups=unprivileged_groups,\n",
    "                                             privileged_groups=privileged_groups)\n",
    "\n",
    "print(\"Train set: Difference in mean outcomes between unprivileged and privileged groups = %f\" % metric_dataset_nodebiasing_train.mean_difference())\n",
    "\n",
    "metric_dataset_nodebiasing_test = BinaryLabelDatasetMetric(dataset_nodebiasing_test, \n",
    "                                             unprivileged_groups=unprivileged_groups,\n",
    "                                             privileged_groups=privileged_groups)\n",
    "\n",
    "print(\"Test set: Difference in mean outcomes between unprivileged and privileged groups = %f\" % metric_dataset_nodebiasing_test.mean_difference())\n",
    "\n",
    "display(Markdown(\"#### Plain model - without debiasing - classification metrics\"))\n",
    "classified_metric_nodebiasing_test = ClassificationMetric(dataset_orig_test, \n",
    "                                                 dataset_nodebiasing_test,\n",
    "                                                 unprivileged_groups=unprivileged_groups,\n",
    "                                                 privileged_groups=privileged_groups)\n",
    "print(\"Test set: Classification accuracy = %f\" % classified_metric_nodebiasing_test.accuracy())\n",
    "TPR = classified_metric_nodebiasing_test.true_positive_rate()\n",
    "TNR = classified_metric_nodebiasing_test.true_negative_rate()\n",
    "bal_acc_nodebiasing_test = 0.5*(TPR+TNR)\n",
    "print(\"Test set: Balanced classification accuracy = %f\" % bal_acc_nodebiasing_test)\n",
    "print(\"Test set: Disparate impact = %f\" % classified_metric_nodebiasing_test.disparate_impact())\n",
    "print(\"Test set: Equal opportunity difference = %f\" % classified_metric_nodebiasing_test.equal_opportunity_difference())\n",
    "print(\"Test set: Average odds difference = %f\" % classified_metric_nodebiasing_test.average_odds_difference())\n",
    "print(\"Test set: Theil_index = %f\" % classified_metric_nodebiasing_test.theil_index())"
   ]
  },
  {
   "cell_type": "markdown",
   "metadata": {},
   "source": [
    "### Apply in-processing algorithm based on adversarial learning"
   ]
  },
  {
   "cell_type": "code",
   "execution_count": 21,
   "metadata": {},
   "outputs": [],
   "source": [
    "sess.close()\n",
    "tf.reset_default_graph()\n",
    "sess = tf.Session()"
   ]
  },
  {
   "cell_type": "code",
   "execution_count": 22,
   "metadata": {},
   "outputs": [],
   "source": [
    "# Learn parameters with debias set to True\n",
    "debiased_model = AdversarialDebiasing(privileged_groups = privileged_groups,\n",
    "                          unprivileged_groups = unprivileged_groups,\n",
    "                          scope_name='debiased_classifier',\n",
    "                          debias=True,\n",
    "                          sess=sess)"
   ]
  },
  {
   "cell_type": "code",
   "execution_count": 23,
   "metadata": {
    "scrolled": true
   },
   "outputs": [
    {
     "name": "stdout",
     "output_type": "stream",
     "text": [
      "epoch 0; iter: 0; batch classifier loss: 0.728267; batch adversarial loss: 0.735440\n",
      "epoch 0; iter: 200; batch classifier loss: 0.459875; batch adversarial loss: 0.670753\n",
      "epoch 1; iter: 0; batch classifier loss: 0.427038; batch adversarial loss: 0.643441\n",
      "epoch 1; iter: 200; batch classifier loss: 0.466002; batch adversarial loss: 0.638469\n",
      "epoch 2; iter: 0; batch classifier loss: 0.531953; batch adversarial loss: 0.616715\n",
      "epoch 2; iter: 200; batch classifier loss: 0.518367; batch adversarial loss: 0.622663\n",
      "epoch 3; iter: 0; batch classifier loss: 0.442392; batch adversarial loss: 0.628799\n",
      "epoch 3; iter: 200; batch classifier loss: 0.537964; batch adversarial loss: 0.670603\n",
      "epoch 4; iter: 0; batch classifier loss: 0.403183; batch adversarial loss: 0.638194\n",
      "epoch 4; iter: 200; batch classifier loss: 0.449834; batch adversarial loss: 0.586850\n",
      "epoch 5; iter: 0; batch classifier loss: 0.382765; batch adversarial loss: 0.594528\n",
      "epoch 5; iter: 200; batch classifier loss: 0.425099; batch adversarial loss: 0.637936\n",
      "epoch 6; iter: 0; batch classifier loss: 0.475471; batch adversarial loss: 0.634321\n",
      "epoch 6; iter: 200; batch classifier loss: 0.446594; batch adversarial loss: 0.608210\n",
      "epoch 7; iter: 0; batch classifier loss: 0.571581; batch adversarial loss: 0.573704\n",
      "epoch 7; iter: 200; batch classifier loss: 0.355922; batch adversarial loss: 0.645534\n",
      "epoch 8; iter: 0; batch classifier loss: 0.444603; batch adversarial loss: 0.573563\n",
      "epoch 8; iter: 200; batch classifier loss: 0.531373; batch adversarial loss: 0.594894\n",
      "epoch 9; iter: 0; batch classifier loss: 0.400134; batch adversarial loss: 0.610663\n",
      "epoch 9; iter: 200; batch classifier loss: 0.334270; batch adversarial loss: 0.591486\n",
      "epoch 10; iter: 0; batch classifier loss: 0.433364; batch adversarial loss: 0.613039\n",
      "epoch 10; iter: 200; batch classifier loss: 0.393192; batch adversarial loss: 0.601367\n",
      "epoch 11; iter: 0; batch classifier loss: 0.400147; batch adversarial loss: 0.622429\n",
      "epoch 11; iter: 200; batch classifier loss: 0.411666; batch adversarial loss: 0.611188\n",
      "epoch 12; iter: 0; batch classifier loss: 0.441773; batch adversarial loss: 0.659506\n",
      "epoch 12; iter: 200; batch classifier loss: 0.589059; batch adversarial loss: 0.571299\n",
      "epoch 13; iter: 0; batch classifier loss: 0.349070; batch adversarial loss: 0.601199\n",
      "epoch 13; iter: 200; batch classifier loss: 0.331326; batch adversarial loss: 0.682570\n",
      "epoch 14; iter: 0; batch classifier loss: 0.411088; batch adversarial loss: 0.585171\n",
      "epoch 14; iter: 200; batch classifier loss: 0.466657; batch adversarial loss: 0.575845\n",
      "epoch 15; iter: 0; batch classifier loss: 0.508659; batch adversarial loss: 0.565575\n",
      "epoch 15; iter: 200; batch classifier loss: 0.463699; batch adversarial loss: 0.648119\n",
      "epoch 16; iter: 0; batch classifier loss: 0.471830; batch adversarial loss: 0.605931\n",
      "epoch 16; iter: 200; batch classifier loss: 0.372950; batch adversarial loss: 0.551963\n",
      "epoch 17; iter: 0; batch classifier loss: 0.501303; batch adversarial loss: 0.558376\n",
      "epoch 17; iter: 200; batch classifier loss: 0.417323; batch adversarial loss: 0.611287\n",
      "epoch 18; iter: 0; batch classifier loss: 0.396838; batch adversarial loss: 0.582120\n",
      "epoch 18; iter: 200; batch classifier loss: 0.377594; batch adversarial loss: 0.641315\n",
      "epoch 19; iter: 0; batch classifier loss: 0.377178; batch adversarial loss: 0.625496\n",
      "epoch 19; iter: 200; batch classifier loss: 0.448814; batch adversarial loss: 0.606104\n",
      "epoch 20; iter: 0; batch classifier loss: 0.447982; batch adversarial loss: 0.634560\n",
      "epoch 20; iter: 200; batch classifier loss: 0.401334; batch adversarial loss: 0.617078\n",
      "epoch 21; iter: 0; batch classifier loss: 0.384186; batch adversarial loss: 0.651934\n",
      "epoch 21; iter: 200; batch classifier loss: 0.492602; batch adversarial loss: 0.606984\n",
      "epoch 22; iter: 0; batch classifier loss: 0.434704; batch adversarial loss: 0.585939\n",
      "epoch 22; iter: 200; batch classifier loss: 0.440569; batch adversarial loss: 0.624716\n",
      "epoch 23; iter: 0; batch classifier loss: 0.516138; batch adversarial loss: 0.578225\n",
      "epoch 23; iter: 200; batch classifier loss: 0.377732; batch adversarial loss: 0.613955\n",
      "epoch 24; iter: 0; batch classifier loss: 0.446465; batch adversarial loss: 0.602552\n",
      "epoch 24; iter: 200; batch classifier loss: 0.368503; batch adversarial loss: 0.585143\n",
      "epoch 25; iter: 0; batch classifier loss: 0.425331; batch adversarial loss: 0.613207\n",
      "epoch 25; iter: 200; batch classifier loss: 0.482474; batch adversarial loss: 0.563784\n",
      "epoch 26; iter: 0; batch classifier loss: 0.433024; batch adversarial loss: 0.552449\n",
      "epoch 26; iter: 200; batch classifier loss: 0.434171; batch adversarial loss: 0.622594\n",
      "epoch 27; iter: 0; batch classifier loss: 0.455397; batch adversarial loss: 0.633085\n",
      "epoch 27; iter: 200; batch classifier loss: 0.415810; batch adversarial loss: 0.655766\n",
      "epoch 28; iter: 0; batch classifier loss: 0.418760; batch adversarial loss: 0.652615\n",
      "epoch 28; iter: 200; batch classifier loss: 0.481864; batch adversarial loss: 0.582618\n",
      "epoch 29; iter: 0; batch classifier loss: 0.395841; batch adversarial loss: 0.598187\n",
      "epoch 29; iter: 200; batch classifier loss: 0.422788; batch adversarial loss: 0.617805\n",
      "epoch 30; iter: 0; batch classifier loss: 0.358033; batch adversarial loss: 0.646157\n",
      "epoch 30; iter: 200; batch classifier loss: 0.362725; batch adversarial loss: 0.596626\n",
      "epoch 31; iter: 0; batch classifier loss: 0.469021; batch adversarial loss: 0.623139\n",
      "epoch 31; iter: 200; batch classifier loss: 0.439265; batch adversarial loss: 0.570025\n",
      "epoch 32; iter: 0; batch classifier loss: 0.480221; batch adversarial loss: 0.575889\n",
      "epoch 32; iter: 200; batch classifier loss: 0.451282; batch adversarial loss: 0.582974\n",
      "epoch 33; iter: 0; batch classifier loss: 0.399675; batch adversarial loss: 0.621289\n",
      "epoch 33; iter: 200; batch classifier loss: 0.418928; batch adversarial loss: 0.534493\n",
      "epoch 34; iter: 0; batch classifier loss: 0.453595; batch adversarial loss: 0.597207\n",
      "epoch 34; iter: 200; batch classifier loss: 0.416269; batch adversarial loss: 0.610927\n",
      "epoch 35; iter: 0; batch classifier loss: 0.479743; batch adversarial loss: 0.610977\n",
      "epoch 35; iter: 200; batch classifier loss: 0.404855; batch adversarial loss: 0.669329\n",
      "epoch 36; iter: 0; batch classifier loss: 0.490052; batch adversarial loss: 0.591832\n",
      "epoch 36; iter: 200; batch classifier loss: 0.418239; batch adversarial loss: 0.609030\n",
      "epoch 37; iter: 0; batch classifier loss: 0.549477; batch adversarial loss: 0.575211\n",
      "epoch 37; iter: 200; batch classifier loss: 0.454871; batch adversarial loss: 0.568452\n",
      "epoch 38; iter: 0; batch classifier loss: 0.501234; batch adversarial loss: 0.644068\n",
      "epoch 38; iter: 200; batch classifier loss: 0.469851; batch adversarial loss: 0.630594\n",
      "epoch 39; iter: 0; batch classifier loss: 0.369324; batch adversarial loss: 0.580677\n",
      "epoch 39; iter: 200; batch classifier loss: 0.476040; batch adversarial loss: 0.527850\n",
      "epoch 40; iter: 0; batch classifier loss: 0.454738; batch adversarial loss: 0.583033\n",
      "epoch 40; iter: 200; batch classifier loss: 0.372312; batch adversarial loss: 0.617678\n",
      "epoch 41; iter: 0; batch classifier loss: 0.427160; batch adversarial loss: 0.548525\n",
      "epoch 41; iter: 200; batch classifier loss: 0.511087; batch adversarial loss: 0.592515\n",
      "epoch 42; iter: 0; batch classifier loss: 0.418870; batch adversarial loss: 0.658620\n",
      "epoch 42; iter: 200; batch classifier loss: 0.545843; batch adversarial loss: 0.608288\n",
      "epoch 43; iter: 0; batch classifier loss: 0.412476; batch adversarial loss: 0.600100\n",
      "epoch 43; iter: 200; batch classifier loss: 0.492364; batch adversarial loss: 0.602326\n",
      "epoch 44; iter: 0; batch classifier loss: 0.495882; batch adversarial loss: 0.612492\n",
      "epoch 44; iter: 200; batch classifier loss: 0.420855; batch adversarial loss: 0.642346\n",
      "epoch 45; iter: 0; batch classifier loss: 0.410315; batch adversarial loss: 0.634890\n",
      "epoch 45; iter: 200; batch classifier loss: 0.410863; batch adversarial loss: 0.584010\n",
      "epoch 46; iter: 0; batch classifier loss: 0.399029; batch adversarial loss: 0.586048\n",
      "epoch 46; iter: 200; batch classifier loss: 0.350878; batch adversarial loss: 0.595263\n",
      "epoch 47; iter: 0; batch classifier loss: 0.445496; batch adversarial loss: 0.572056\n",
      "epoch 47; iter: 200; batch classifier loss: 0.527548; batch adversarial loss: 0.565809\n"
     ]
    },
    {
     "name": "stdout",
     "output_type": "stream",
     "text": [
      "epoch 48; iter: 0; batch classifier loss: 0.383281; batch adversarial loss: 0.566808\n",
      "epoch 48; iter: 200; batch classifier loss: 0.433095; batch adversarial loss: 0.563100\n",
      "epoch 49; iter: 0; batch classifier loss: 0.522162; batch adversarial loss: 0.597233\n",
      "epoch 49; iter: 200; batch classifier loss: 0.478056; batch adversarial loss: 0.587454\n"
     ]
    },
    {
     "data": {
      "text/plain": [
       "<aif360.algorithms.inprocessing.adversarial_debiasing.AdversarialDebiasing at 0x1e23803bd88>"
      ]
     },
     "execution_count": 23,
     "metadata": {},
     "output_type": "execute_result"
    }
   ],
   "source": [
    "debiased_model.fit(dataset_orig_train)"
   ]
  },
  {
   "cell_type": "code",
   "execution_count": 24,
   "metadata": {},
   "outputs": [],
   "source": [
    "# Apply the plain model to test data\n",
    "dataset_debiasing_train = debiased_model.predict(dataset_orig_train)\n",
    "dataset_debiasing_test = debiased_model.predict(dataset_orig_test)"
   ]
  },
  {
   "cell_type": "code",
   "execution_count": 25,
   "metadata": {},
   "outputs": [
    {
     "data": {
      "text/markdown": [
       "#### Plain model - without debiasing - dataset metrics"
      ],
      "text/plain": [
       "<IPython.core.display.Markdown object>"
      ]
     },
     "metadata": {},
     "output_type": "display_data"
    },
    {
     "name": "stdout",
     "output_type": "stream",
     "text": [
      "Train set: Difference in mean outcomes between unprivileged and privileged groups = -0.230958\n",
      "Test set: Difference in mean outcomes between unprivileged and privileged groups = -0.234504\n"
     ]
    },
    {
     "data": {
      "text/markdown": [
       "#### Model - with debiasing - dataset metrics"
      ],
      "text/plain": [
       "<IPython.core.display.Markdown object>"
      ]
     },
     "metadata": {},
     "output_type": "display_data"
    },
    {
     "name": "stdout",
     "output_type": "stream",
     "text": [
      "Train set: Difference in mean outcomes between unprivileged and privileged groups = -0.108357\n",
      "Test set: Difference in mean outcomes between unprivileged and privileged groups = -0.107750\n"
     ]
    },
    {
     "data": {
      "text/markdown": [
       "#### Plain model - without debiasing - classification metrics"
      ],
      "text/plain": [
       "<IPython.core.display.Markdown object>"
      ]
     },
     "metadata": {},
     "output_type": "display_data"
    },
    {
     "name": "stdout",
     "output_type": "stream",
     "text": [
      "Test set: Classification accuracy = 0.802232\n",
      "Test set: Balanced classification accuracy = 0.671035\n",
      "Test set: Disparate impact = 0.000000\n",
      "Test set: Equal opportunity difference = -0.489573\n",
      "Test set: Average odds difference = -0.305413\n",
      "Test set: Theil_index = 0.174329\n"
     ]
    },
    {
     "data": {
      "text/markdown": [
       "#### Model - with debiasing - classification metrics"
      ],
      "text/plain": [
       "<IPython.core.display.Markdown object>"
      ]
     },
     "metadata": {},
     "output_type": "display_data"
    },
    {
     "name": "stdout",
     "output_type": "stream",
     "text": [
      "Test set: Classification accuracy = 0.792405\n",
      "Test set: Balanced classification accuracy = 0.668427\n",
      "Test set: Disparate impact = 0.482200\n",
      "Test set: Equal opportunity difference = -0.160877\n",
      "Test set: Average odds difference = -0.091978\n",
      "Test set: Theil_index = 0.175041\n"
     ]
    }
   ],
   "source": [
    "# Metrics for the dataset from plain model (without debiasing)\n",
    "display(Markdown(\"#### Plain model - without debiasing - dataset metrics\"))\n",
    "print(\"Train set: Difference in mean outcomes between unprivileged and privileged groups = %f\" % metric_dataset_nodebiasing_train.mean_difference())\n",
    "print(\"Test set: Difference in mean outcomes between unprivileged and privileged groups = %f\" % metric_dataset_nodebiasing_test.mean_difference())\n",
    "\n",
    "# Metrics for the dataset from model with debiasing\n",
    "display(Markdown(\"#### Model - with debiasing - dataset metrics\"))\n",
    "metric_dataset_debiasing_train = BinaryLabelDatasetMetric(dataset_debiasing_train, \n",
    "                                             unprivileged_groups=unprivileged_groups,\n",
    "                                             privileged_groups=privileged_groups)\n",
    "\n",
    "print(\"Train set: Difference in mean outcomes between unprivileged and privileged groups = %f\" % metric_dataset_debiasing_train.mean_difference())\n",
    "\n",
    "metric_dataset_debiasing_test = BinaryLabelDatasetMetric(dataset_debiasing_test, \n",
    "                                             unprivileged_groups=unprivileged_groups,\n",
    "                                             privileged_groups=privileged_groups)\n",
    "\n",
    "print(\"Test set: Difference in mean outcomes between unprivileged and privileged groups = %f\" % metric_dataset_debiasing_test.mean_difference())\n",
    "\n",
    "\n",
    "\n",
    "display(Markdown(\"#### Plain model - without debiasing - classification metrics\"))\n",
    "print(\"Test set: Classification accuracy = %f\" % classified_metric_nodebiasing_test.accuracy())\n",
    "TPR = classified_metric_nodebiasing_test.true_positive_rate()\n",
    "TNR = classified_metric_nodebiasing_test.true_negative_rate()\n",
    "bal_acc_nodebiasing_test = 0.5*(TPR+TNR)\n",
    "print(\"Test set: Balanced classification accuracy = %f\" % bal_acc_nodebiasing_test)\n",
    "print(\"Test set: Disparate impact = %f\" % classified_metric_nodebiasing_test.disparate_impact())\n",
    "print(\"Test set: Equal opportunity difference = %f\" % classified_metric_nodebiasing_test.equal_opportunity_difference())\n",
    "print(\"Test set: Average odds difference = %f\" % classified_metric_nodebiasing_test.average_odds_difference())\n",
    "print(\"Test set: Theil_index = %f\" % classified_metric_nodebiasing_test.theil_index())\n",
    "\n",
    "\n",
    "\n",
    "display(Markdown(\"#### Model - with debiasing - classification metrics\"))\n",
    "classified_metric_debiasing_test = ClassificationMetric(dataset_orig_test, \n",
    "                                                 dataset_debiasing_test,\n",
    "                                                 unprivileged_groups=unprivileged_groups,\n",
    "                                                 privileged_groups=privileged_groups)\n",
    "print(\"Test set: Classification accuracy = %f\" % classified_metric_debiasing_test.accuracy())\n",
    "TPR = classified_metric_debiasing_test.true_positive_rate()\n",
    "TNR = classified_metric_debiasing_test.true_negative_rate()\n",
    "bal_acc_debiasing_test = 0.5*(TPR+TNR)\n",
    "print(\"Test set: Balanced classification accuracy = %f\" % bal_acc_debiasing_test)\n",
    "print(\"Test set: Disparate impact = %f\" % classified_metric_debiasing_test.disparate_impact())\n",
    "print(\"Test set: Equal opportunity difference = %f\" % classified_metric_debiasing_test.equal_opportunity_difference())\n",
    "print(\"Test set: Average odds difference = %f\" % classified_metric_debiasing_test.average_odds_difference())\n",
    "print(\"Test set: Theil_index = %f\" % classified_metric_debiasing_test.theil_index())"
   ]
  },
  {
   "cell_type": "markdown",
   "metadata": {},
   "source": [
    "\n",
    "    References:\n",
    "    [1] B. H. Zhang, B. Lemoine, and M. Mitchell, \"Mitigating UnwantedBiases with Adversarial Learning,\" \n",
    "    AAAI/ACM Conference on Artificial Intelligence, Ethics, and Society, 2018."
   ]
  },
  {
   "cell_type": "code",
   "execution_count": null,
   "metadata": {
    "collapsed": true
   },
   "outputs": [],
   "source": []
  }
 ],
 "metadata": {
  "kernelspec": {
   "display_name": "Python 3 (ipykernel)",
   "language": "python",
   "name": "python3"
  },
  "language_info": {
   "codemirror_mode": {
    "name": "ipython",
    "version": 3
   },
   "file_extension": ".py",
   "mimetype": "text/x-python",
   "name": "python",
   "nbconvert_exporter": "python",
   "pygments_lexer": "ipython3",
   "version": "3.7.12"
  }
 },
 "nbformat": 4,
 "nbformat_minor": 2
}