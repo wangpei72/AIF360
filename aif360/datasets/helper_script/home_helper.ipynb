{
 "cells": [
  {
   "cell_type": "code",
   "execution_count": 1,
   "metadata": {
    "collapsed": true
   },
   "outputs": [],
   "source": [
    "import numpy as np # linear algebra\n",
    "import pandas as pd # data processing, CSV file I/O (e.g. pd.read_csv)\n",
    "\n",
    "# Input data files are available in the read-only \"../input/\" directory\n",
    "# For example, running this (by clicking run or pressing Shift+Enter) will list all files under the input directory\n",
    "\n",
    "import os\n",
    "for dirname, _, filenames in os.walk('/kaggle/input'):\n",
    "    for filename in filenames:\n",
    "        print(os.path.join(dirname, filename))"
   ]
  },
  {
   "cell_type": "code",
   "execution_count": 2,
   "outputs": [],
   "source": [
    "%matplotlib inline\n",
    "import matplotlib.pyplot as plt\n",
    "plt.style.use('bmh')\n",
    "import seaborn as sns\n",
    "import missingno as msno\n",
    "\n",
    "# for pre-processing\n",
    "from sklearn.impute import SimpleImputer\n",
    "from sklearn.preprocessing import MinMaxScaler, OneHotEncoder\n",
    "from sklearn.compose import ColumnTransformer, make_column_selector\n",
    "from sklearn.pipeline import Pipeline\n",
    "from sklearn.model_selection import train_test_split\n",
    "from imblearn.pipeline import Pipeline\n",
    "from imblearn.over_sampling import SMOTE\n",
    "from imblearn.under_sampling import RandomUnderSampler\n",
    "\n",
    "# for machine learning modelling\n",
    "from sklearn.ensemble import RandomForestClassifier, GradientBoostingClassifier, AdaBoostClassifier\n",
    "from lightgbm import LGBMClassifier\n",
    "from sklearn.metrics import roc_auc_score, confusion_matrix\n"
   ],
   "metadata": {
    "collapsed": false,
    "pycharm": {
     "name": "#%%\n"
    }
   }
  },
  {
   "cell_type": "code",
   "execution_count": 3,
   "outputs": [
    {
     "data": {
      "text/plain": "            TARGET NAME_CONTRACT_TYPE CODE_GENDER FLAG_OWN_CAR  \\\nSK_ID_CURR                                                       \n100002           1         Cash loans           M            N   \n100003           0         Cash loans           F            N   \n100004           0    Revolving loans           M            Y   \n100006           0         Cash loans           F            N   \n100007           0         Cash loans           M            N   \n...            ...                ...         ...          ...   \n456251           0         Cash loans           M            N   \n456252           0         Cash loans           F            N   \n456253           0         Cash loans           F            N   \n456254           1         Cash loans           F            N   \n456255           0         Cash loans           F            N   \n\n           FLAG_OWN_REALTY  CNT_CHILDREN  AMT_INCOME_TOTAL  AMT_CREDIT  \\\nSK_ID_CURR                                                               \n100002                   Y             0          202500.0    406597.5   \n100003                   N             0          270000.0   1293502.5   \n100004                   Y             0           67500.0    135000.0   \n100006                   Y             0          135000.0    312682.5   \n100007                   Y             0          121500.0    513000.0   \n...                    ...           ...               ...         ...   \n456251                   N             0          157500.0    254700.0   \n456252                   Y             0           72000.0    269550.0   \n456253                   Y             0          153000.0    677664.0   \n456254                   Y             0          171000.0    370107.0   \n456255                   N             0          157500.0    675000.0   \n\n            AMT_ANNUITY  AMT_GOODS_PRICE  ... FLAG_DOCUMENT_18  \\\nSK_ID_CURR                                ...                    \n100002          24700.5         351000.0  ...                0   \n100003          35698.5        1129500.0  ...                0   \n100004           6750.0         135000.0  ...                0   \n100006          29686.5         297000.0  ...                0   \n100007          21865.5         513000.0  ...                0   \n...                 ...              ...  ...              ...   \n456251          27558.0         225000.0  ...                0   \n456252          12001.5         225000.0  ...                0   \n456253          29979.0         585000.0  ...                0   \n456254          20205.0         319500.0  ...                0   \n456255          49117.5         675000.0  ...                0   \n\n           FLAG_DOCUMENT_19 FLAG_DOCUMENT_20 FLAG_DOCUMENT_21  \\\nSK_ID_CURR                                                      \n100002                    0                0                0   \n100003                    0                0                0   \n100004                    0                0                0   \n100006                    0                0                0   \n100007                    0                0                0   \n...                     ...              ...              ...   \n456251                    0                0                0   \n456252                    0                0                0   \n456253                    0                0                0   \n456254                    0                0                0   \n456255                    0                0                0   \n\n           AMT_REQ_CREDIT_BUREAU_HOUR  AMT_REQ_CREDIT_BUREAU_DAY  \\\nSK_ID_CURR                                                         \n100002                            0.0                        0.0   \n100003                            0.0                        0.0   \n100004                            0.0                        0.0   \n100006                            NaN                        NaN   \n100007                            0.0                        0.0   \n...                               ...                        ...   \n456251                            NaN                        NaN   \n456252                            NaN                        NaN   \n456253                            1.0                        0.0   \n456254                            0.0                        0.0   \n456255                            0.0                        0.0   \n\n            AMT_REQ_CREDIT_BUREAU_WEEK  AMT_REQ_CREDIT_BUREAU_MON  \\\nSK_ID_CURR                                                          \n100002                             0.0                        0.0   \n100003                             0.0                        0.0   \n100004                             0.0                        0.0   \n100006                             NaN                        NaN   \n100007                             0.0                        0.0   \n...                                ...                        ...   \n456251                             NaN                        NaN   \n456252                             NaN                        NaN   \n456253                             0.0                        1.0   \n456254                             0.0                        0.0   \n456255                             0.0                        2.0   \n\n            AMT_REQ_CREDIT_BUREAU_QRT  AMT_REQ_CREDIT_BUREAU_YEAR  \nSK_ID_CURR                                                         \n100002                            0.0                         1.0  \n100003                            0.0                         0.0  \n100004                            0.0                         0.0  \n100006                            NaN                         NaN  \n100007                            0.0                         0.0  \n...                               ...                         ...  \n456251                            NaN                         NaN  \n456252                            NaN                         NaN  \n456253                            0.0                         1.0  \n456254                            0.0                         0.0  \n456255                            0.0                         1.0  \n\n[307511 rows x 121 columns]",
      "text/html": "<div>\n<style scoped>\n    .dataframe tbody tr th:only-of-type {\n        vertical-align: middle;\n    }\n\n    .dataframe tbody tr th {\n        vertical-align: top;\n    }\n\n    .dataframe thead th {\n        text-align: right;\n    }\n</style>\n<table border=\"1\" class=\"dataframe\">\n  <thead>\n    <tr style=\"text-align: right;\">\n      <th></th>\n      <th>TARGET</th>\n      <th>NAME_CONTRACT_TYPE</th>\n      <th>CODE_GENDER</th>\n      <th>FLAG_OWN_CAR</th>\n      <th>FLAG_OWN_REALTY</th>\n      <th>CNT_CHILDREN</th>\n      <th>AMT_INCOME_TOTAL</th>\n      <th>AMT_CREDIT</th>\n      <th>AMT_ANNUITY</th>\n      <th>AMT_GOODS_PRICE</th>\n      <th>...</th>\n      <th>FLAG_DOCUMENT_18</th>\n      <th>FLAG_DOCUMENT_19</th>\n      <th>FLAG_DOCUMENT_20</th>\n      <th>FLAG_DOCUMENT_21</th>\n      <th>AMT_REQ_CREDIT_BUREAU_HOUR</th>\n      <th>AMT_REQ_CREDIT_BUREAU_DAY</th>\n      <th>AMT_REQ_CREDIT_BUREAU_WEEK</th>\n      <th>AMT_REQ_CREDIT_BUREAU_MON</th>\n      <th>AMT_REQ_CREDIT_BUREAU_QRT</th>\n      <th>AMT_REQ_CREDIT_BUREAU_YEAR</th>\n    </tr>\n    <tr>\n      <th>SK_ID_CURR</th>\n      <th></th>\n      <th></th>\n      <th></th>\n      <th></th>\n      <th></th>\n      <th></th>\n      <th></th>\n      <th></th>\n      <th></th>\n      <th></th>\n      <th></th>\n      <th></th>\n      <th></th>\n      <th></th>\n      <th></th>\n      <th></th>\n      <th></th>\n      <th></th>\n      <th></th>\n      <th></th>\n      <th></th>\n    </tr>\n  </thead>\n  <tbody>\n    <tr>\n      <th>100002</th>\n      <td>1</td>\n      <td>Cash loans</td>\n      <td>M</td>\n      <td>N</td>\n      <td>Y</td>\n      <td>0</td>\n      <td>202500.0</td>\n      <td>406597.5</td>\n      <td>24700.5</td>\n      <td>351000.0</td>\n      <td>...</td>\n      <td>0</td>\n      <td>0</td>\n      <td>0</td>\n      <td>0</td>\n      <td>0.0</td>\n      <td>0.0</td>\n      <td>0.0</td>\n      <td>0.0</td>\n      <td>0.0</td>\n      <td>1.0</td>\n    </tr>\n    <tr>\n      <th>100003</th>\n      <td>0</td>\n      <td>Cash loans</td>\n      <td>F</td>\n      <td>N</td>\n      <td>N</td>\n      <td>0</td>\n      <td>270000.0</td>\n      <td>1293502.5</td>\n      <td>35698.5</td>\n      <td>1129500.0</td>\n      <td>...</td>\n      <td>0</td>\n      <td>0</td>\n      <td>0</td>\n      <td>0</td>\n      <td>0.0</td>\n      <td>0.0</td>\n      <td>0.0</td>\n      <td>0.0</td>\n      <td>0.0</td>\n      <td>0.0</td>\n    </tr>\n    <tr>\n      <th>100004</th>\n      <td>0</td>\n      <td>Revolving loans</td>\n      <td>M</td>\n      <td>Y</td>\n      <td>Y</td>\n      <td>0</td>\n      <td>67500.0</td>\n      <td>135000.0</td>\n      <td>6750.0</td>\n      <td>135000.0</td>\n      <td>...</td>\n      <td>0</td>\n      <td>0</td>\n      <td>0</td>\n      <td>0</td>\n      <td>0.0</td>\n      <td>0.0</td>\n      <td>0.0</td>\n      <td>0.0</td>\n      <td>0.0</td>\n      <td>0.0</td>\n    </tr>\n    <tr>\n      <th>100006</th>\n      <td>0</td>\n      <td>Cash loans</td>\n      <td>F</td>\n      <td>N</td>\n      <td>Y</td>\n      <td>0</td>\n      <td>135000.0</td>\n      <td>312682.5</td>\n      <td>29686.5</td>\n      <td>297000.0</td>\n      <td>...</td>\n      <td>0</td>\n      <td>0</td>\n      <td>0</td>\n      <td>0</td>\n      <td>NaN</td>\n      <td>NaN</td>\n      <td>NaN</td>\n      <td>NaN</td>\n      <td>NaN</td>\n      <td>NaN</td>\n    </tr>\n    <tr>\n      <th>100007</th>\n      <td>0</td>\n      <td>Cash loans</td>\n      <td>M</td>\n      <td>N</td>\n      <td>Y</td>\n      <td>0</td>\n      <td>121500.0</td>\n      <td>513000.0</td>\n      <td>21865.5</td>\n      <td>513000.0</td>\n      <td>...</td>\n      <td>0</td>\n      <td>0</td>\n      <td>0</td>\n      <td>0</td>\n      <td>0.0</td>\n      <td>0.0</td>\n      <td>0.0</td>\n      <td>0.0</td>\n      <td>0.0</td>\n      <td>0.0</td>\n    </tr>\n    <tr>\n      <th>...</th>\n      <td>...</td>\n      <td>...</td>\n      <td>...</td>\n      <td>...</td>\n      <td>...</td>\n      <td>...</td>\n      <td>...</td>\n      <td>...</td>\n      <td>...</td>\n      <td>...</td>\n      <td>...</td>\n      <td>...</td>\n      <td>...</td>\n      <td>...</td>\n      <td>...</td>\n      <td>...</td>\n      <td>...</td>\n      <td>...</td>\n      <td>...</td>\n      <td>...</td>\n      <td>...</td>\n    </tr>\n    <tr>\n      <th>456251</th>\n      <td>0</td>\n      <td>Cash loans</td>\n      <td>M</td>\n      <td>N</td>\n      <td>N</td>\n      <td>0</td>\n      <td>157500.0</td>\n      <td>254700.0</td>\n      <td>27558.0</td>\n      <td>225000.0</td>\n      <td>...</td>\n      <td>0</td>\n      <td>0</td>\n      <td>0</td>\n      <td>0</td>\n      <td>NaN</td>\n      <td>NaN</td>\n      <td>NaN</td>\n      <td>NaN</td>\n      <td>NaN</td>\n      <td>NaN</td>\n    </tr>\n    <tr>\n      <th>456252</th>\n      <td>0</td>\n      <td>Cash loans</td>\n      <td>F</td>\n      <td>N</td>\n      <td>Y</td>\n      <td>0</td>\n      <td>72000.0</td>\n      <td>269550.0</td>\n      <td>12001.5</td>\n      <td>225000.0</td>\n      <td>...</td>\n      <td>0</td>\n      <td>0</td>\n      <td>0</td>\n      <td>0</td>\n      <td>NaN</td>\n      <td>NaN</td>\n      <td>NaN</td>\n      <td>NaN</td>\n      <td>NaN</td>\n      <td>NaN</td>\n    </tr>\n    <tr>\n      <th>456253</th>\n      <td>0</td>\n      <td>Cash loans</td>\n      <td>F</td>\n      <td>N</td>\n      <td>Y</td>\n      <td>0</td>\n      <td>153000.0</td>\n      <td>677664.0</td>\n      <td>29979.0</td>\n      <td>585000.0</td>\n      <td>...</td>\n      <td>0</td>\n      <td>0</td>\n      <td>0</td>\n      <td>0</td>\n      <td>1.0</td>\n      <td>0.0</td>\n      <td>0.0</td>\n      <td>1.0</td>\n      <td>0.0</td>\n      <td>1.0</td>\n    </tr>\n    <tr>\n      <th>456254</th>\n      <td>1</td>\n      <td>Cash loans</td>\n      <td>F</td>\n      <td>N</td>\n      <td>Y</td>\n      <td>0</td>\n      <td>171000.0</td>\n      <td>370107.0</td>\n      <td>20205.0</td>\n      <td>319500.0</td>\n      <td>...</td>\n      <td>0</td>\n      <td>0</td>\n      <td>0</td>\n      <td>0</td>\n      <td>0.0</td>\n      <td>0.0</td>\n      <td>0.0</td>\n      <td>0.0</td>\n      <td>0.0</td>\n      <td>0.0</td>\n    </tr>\n    <tr>\n      <th>456255</th>\n      <td>0</td>\n      <td>Cash loans</td>\n      <td>F</td>\n      <td>N</td>\n      <td>N</td>\n      <td>0</td>\n      <td>157500.0</td>\n      <td>675000.0</td>\n      <td>49117.5</td>\n      <td>675000.0</td>\n      <td>...</td>\n      <td>0</td>\n      <td>0</td>\n      <td>0</td>\n      <td>0</td>\n      <td>0.0</td>\n      <td>0.0</td>\n      <td>0.0</td>\n      <td>2.0</td>\n      <td>0.0</td>\n      <td>1.0</td>\n    </tr>\n  </tbody>\n</table>\n<p>307511 rows × 121 columns</p>\n</div>"
     },
     "execution_count": 3,
     "metadata": {},
     "output_type": "execute_result"
    }
   ],
   "source": [
    "# training dataset\n",
    "train_df = pd.read_csv('../../data/raw/home/application_train.csv', index_col='SK_ID_CURR')\n",
    "train_df\n"
   ],
   "metadata": {
    "collapsed": false,
    "pycharm": {
     "name": "#%%\n"
    }
   }
  },
  {
   "cell_type": "code",
   "execution_count": 4,
   "outputs": [
    {
     "data": {
      "text/plain": "           NAME_CONTRACT_TYPE CODE_GENDER FLAG_OWN_CAR FLAG_OWN_REALTY  \\\nSK_ID_CURR                                                               \n100001             Cash loans           F            N               Y   \n100005             Cash loans           M            N               Y   \n100013             Cash loans           M            Y               Y   \n100028             Cash loans           F            N               Y   \n100038             Cash loans           M            Y               N   \n...                       ...         ...          ...             ...   \n456221             Cash loans           F            N               Y   \n456222             Cash loans           F            N               N   \n456223             Cash loans           F            Y               Y   \n456224             Cash loans           M            N               N   \n456250             Cash loans           F            Y               N   \n\n            CNT_CHILDREN  AMT_INCOME_TOTAL  AMT_CREDIT  AMT_ANNUITY  \\\nSK_ID_CURR                                                            \n100001                 0          135000.0    568800.0      20560.5   \n100005                 0           99000.0    222768.0      17370.0   \n100013                 0          202500.0    663264.0      69777.0   \n100028                 2          315000.0   1575000.0      49018.5   \n100038                 1          180000.0    625500.0      32067.0   \n...                  ...               ...         ...          ...   \n456221                 0          121500.0    412560.0      17473.5   \n456222                 2          157500.0    622413.0      31909.5   \n456223                 1          202500.0    315000.0      33205.5   \n456224                 0          225000.0    450000.0      25128.0   \n456250                 0          135000.0    312768.0      24709.5   \n\n            AMT_GOODS_PRICE NAME_TYPE_SUITE  ... FLAG_DOCUMENT_18  \\\nSK_ID_CURR                                   ...                    \n100001             450000.0   Unaccompanied  ...                0   \n100005             180000.0   Unaccompanied  ...                0   \n100013             630000.0             NaN  ...                0   \n100028            1575000.0   Unaccompanied  ...                0   \n100038             625500.0   Unaccompanied  ...                0   \n...                     ...             ...  ...              ...   \n456221             270000.0   Unaccompanied  ...                0   \n456222             495000.0   Unaccompanied  ...                0   \n456223             315000.0   Unaccompanied  ...                0   \n456224             450000.0          Family  ...                0   \n456250             270000.0   Unaccompanied  ...                0   \n\n           FLAG_DOCUMENT_19 FLAG_DOCUMENT_20 FLAG_DOCUMENT_21  \\\nSK_ID_CURR                                                      \n100001                    0                0                0   \n100005                    0                0                0   \n100013                    0                0                0   \n100028                    0                0                0   \n100038                    0                0                0   \n...                     ...              ...              ...   \n456221                    0                0                0   \n456222                    0                0                0   \n456223                    0                0                0   \n456224                    0                0                0   \n456250                    0                0                0   \n\n            AMT_REQ_CREDIT_BUREAU_HOUR  AMT_REQ_CREDIT_BUREAU_DAY  \\\nSK_ID_CURR                                                          \n100001                             0.0                        0.0   \n100005                             0.0                        0.0   \n100013                             0.0                        0.0   \n100028                             0.0                        0.0   \n100038                             NaN                        NaN   \n...                                ...                        ...   \n456221                             0.0                        0.0   \n456222                             NaN                        NaN   \n456223                             0.0                        0.0   \n456224                             0.0                        0.0   \n456250                             0.0                        0.0   \n\n            AMT_REQ_CREDIT_BUREAU_WEEK  AMT_REQ_CREDIT_BUREAU_MON  \\\nSK_ID_CURR                                                          \n100001                             0.0                        0.0   \n100005                             0.0                        0.0   \n100013                             0.0                        0.0   \n100028                             0.0                        0.0   \n100038                             NaN                        NaN   \n...                                ...                        ...   \n456221                             0.0                        0.0   \n456222                             NaN                        NaN   \n456223                             0.0                        0.0   \n456224                             0.0                        0.0   \n456250                             0.0                        0.0   \n\n            AMT_REQ_CREDIT_BUREAU_QRT  AMT_REQ_CREDIT_BUREAU_YEAR  \nSK_ID_CURR                                                         \n100001                            0.0                         0.0  \n100005                            0.0                         3.0  \n100013                            1.0                         4.0  \n100028                            0.0                         3.0  \n100038                            NaN                         NaN  \n...                               ...                         ...  \n456221                            0.0                         1.0  \n456222                            NaN                         NaN  \n456223                            3.0                         1.0  \n456224                            0.0                         2.0  \n456250                            1.0                         4.0  \n\n[48744 rows x 120 columns]",
      "text/html": "<div>\n<style scoped>\n    .dataframe tbody tr th:only-of-type {\n        vertical-align: middle;\n    }\n\n    .dataframe tbody tr th {\n        vertical-align: top;\n    }\n\n    .dataframe thead th {\n        text-align: right;\n    }\n</style>\n<table border=\"1\" class=\"dataframe\">\n  <thead>\n    <tr style=\"text-align: right;\">\n      <th></th>\n      <th>NAME_CONTRACT_TYPE</th>\n      <th>CODE_GENDER</th>\n      <th>FLAG_OWN_CAR</th>\n      <th>FLAG_OWN_REALTY</th>\n      <th>CNT_CHILDREN</th>\n      <th>AMT_INCOME_TOTAL</th>\n      <th>AMT_CREDIT</th>\n      <th>AMT_ANNUITY</th>\n      <th>AMT_GOODS_PRICE</th>\n      <th>NAME_TYPE_SUITE</th>\n      <th>...</th>\n      <th>FLAG_DOCUMENT_18</th>\n      <th>FLAG_DOCUMENT_19</th>\n      <th>FLAG_DOCUMENT_20</th>\n      <th>FLAG_DOCUMENT_21</th>\n      <th>AMT_REQ_CREDIT_BUREAU_HOUR</th>\n      <th>AMT_REQ_CREDIT_BUREAU_DAY</th>\n      <th>AMT_REQ_CREDIT_BUREAU_WEEK</th>\n      <th>AMT_REQ_CREDIT_BUREAU_MON</th>\n      <th>AMT_REQ_CREDIT_BUREAU_QRT</th>\n      <th>AMT_REQ_CREDIT_BUREAU_YEAR</th>\n    </tr>\n    <tr>\n      <th>SK_ID_CURR</th>\n      <th></th>\n      <th></th>\n      <th></th>\n      <th></th>\n      <th></th>\n      <th></th>\n      <th></th>\n      <th></th>\n      <th></th>\n      <th></th>\n      <th></th>\n      <th></th>\n      <th></th>\n      <th></th>\n      <th></th>\n      <th></th>\n      <th></th>\n      <th></th>\n      <th></th>\n      <th></th>\n      <th></th>\n    </tr>\n  </thead>\n  <tbody>\n    <tr>\n      <th>100001</th>\n      <td>Cash loans</td>\n      <td>F</td>\n      <td>N</td>\n      <td>Y</td>\n      <td>0</td>\n      <td>135000.0</td>\n      <td>568800.0</td>\n      <td>20560.5</td>\n      <td>450000.0</td>\n      <td>Unaccompanied</td>\n      <td>...</td>\n      <td>0</td>\n      <td>0</td>\n      <td>0</td>\n      <td>0</td>\n      <td>0.0</td>\n      <td>0.0</td>\n      <td>0.0</td>\n      <td>0.0</td>\n      <td>0.0</td>\n      <td>0.0</td>\n    </tr>\n    <tr>\n      <th>100005</th>\n      <td>Cash loans</td>\n      <td>M</td>\n      <td>N</td>\n      <td>Y</td>\n      <td>0</td>\n      <td>99000.0</td>\n      <td>222768.0</td>\n      <td>17370.0</td>\n      <td>180000.0</td>\n      <td>Unaccompanied</td>\n      <td>...</td>\n      <td>0</td>\n      <td>0</td>\n      <td>0</td>\n      <td>0</td>\n      <td>0.0</td>\n      <td>0.0</td>\n      <td>0.0</td>\n      <td>0.0</td>\n      <td>0.0</td>\n      <td>3.0</td>\n    </tr>\n    <tr>\n      <th>100013</th>\n      <td>Cash loans</td>\n      <td>M</td>\n      <td>Y</td>\n      <td>Y</td>\n      <td>0</td>\n      <td>202500.0</td>\n      <td>663264.0</td>\n      <td>69777.0</td>\n      <td>630000.0</td>\n      <td>NaN</td>\n      <td>...</td>\n      <td>0</td>\n      <td>0</td>\n      <td>0</td>\n      <td>0</td>\n      <td>0.0</td>\n      <td>0.0</td>\n      <td>0.0</td>\n      <td>0.0</td>\n      <td>1.0</td>\n      <td>4.0</td>\n    </tr>\n    <tr>\n      <th>100028</th>\n      <td>Cash loans</td>\n      <td>F</td>\n      <td>N</td>\n      <td>Y</td>\n      <td>2</td>\n      <td>315000.0</td>\n      <td>1575000.0</td>\n      <td>49018.5</td>\n      <td>1575000.0</td>\n      <td>Unaccompanied</td>\n      <td>...</td>\n      <td>0</td>\n      <td>0</td>\n      <td>0</td>\n      <td>0</td>\n      <td>0.0</td>\n      <td>0.0</td>\n      <td>0.0</td>\n      <td>0.0</td>\n      <td>0.0</td>\n      <td>3.0</td>\n    </tr>\n    <tr>\n      <th>100038</th>\n      <td>Cash loans</td>\n      <td>M</td>\n      <td>Y</td>\n      <td>N</td>\n      <td>1</td>\n      <td>180000.0</td>\n      <td>625500.0</td>\n      <td>32067.0</td>\n      <td>625500.0</td>\n      <td>Unaccompanied</td>\n      <td>...</td>\n      <td>0</td>\n      <td>0</td>\n      <td>0</td>\n      <td>0</td>\n      <td>NaN</td>\n      <td>NaN</td>\n      <td>NaN</td>\n      <td>NaN</td>\n      <td>NaN</td>\n      <td>NaN</td>\n    </tr>\n    <tr>\n      <th>...</th>\n      <td>...</td>\n      <td>...</td>\n      <td>...</td>\n      <td>...</td>\n      <td>...</td>\n      <td>...</td>\n      <td>...</td>\n      <td>...</td>\n      <td>...</td>\n      <td>...</td>\n      <td>...</td>\n      <td>...</td>\n      <td>...</td>\n      <td>...</td>\n      <td>...</td>\n      <td>...</td>\n      <td>...</td>\n      <td>...</td>\n      <td>...</td>\n      <td>...</td>\n      <td>...</td>\n    </tr>\n    <tr>\n      <th>456221</th>\n      <td>Cash loans</td>\n      <td>F</td>\n      <td>N</td>\n      <td>Y</td>\n      <td>0</td>\n      <td>121500.0</td>\n      <td>412560.0</td>\n      <td>17473.5</td>\n      <td>270000.0</td>\n      <td>Unaccompanied</td>\n      <td>...</td>\n      <td>0</td>\n      <td>0</td>\n      <td>0</td>\n      <td>0</td>\n      <td>0.0</td>\n      <td>0.0</td>\n      <td>0.0</td>\n      <td>0.0</td>\n      <td>0.0</td>\n      <td>1.0</td>\n    </tr>\n    <tr>\n      <th>456222</th>\n      <td>Cash loans</td>\n      <td>F</td>\n      <td>N</td>\n      <td>N</td>\n      <td>2</td>\n      <td>157500.0</td>\n      <td>622413.0</td>\n      <td>31909.5</td>\n      <td>495000.0</td>\n      <td>Unaccompanied</td>\n      <td>...</td>\n      <td>0</td>\n      <td>0</td>\n      <td>0</td>\n      <td>0</td>\n      <td>NaN</td>\n      <td>NaN</td>\n      <td>NaN</td>\n      <td>NaN</td>\n      <td>NaN</td>\n      <td>NaN</td>\n    </tr>\n    <tr>\n      <th>456223</th>\n      <td>Cash loans</td>\n      <td>F</td>\n      <td>Y</td>\n      <td>Y</td>\n      <td>1</td>\n      <td>202500.0</td>\n      <td>315000.0</td>\n      <td>33205.5</td>\n      <td>315000.0</td>\n      <td>Unaccompanied</td>\n      <td>...</td>\n      <td>0</td>\n      <td>0</td>\n      <td>0</td>\n      <td>0</td>\n      <td>0.0</td>\n      <td>0.0</td>\n      <td>0.0</td>\n      <td>0.0</td>\n      <td>3.0</td>\n      <td>1.0</td>\n    </tr>\n    <tr>\n      <th>456224</th>\n      <td>Cash loans</td>\n      <td>M</td>\n      <td>N</td>\n      <td>N</td>\n      <td>0</td>\n      <td>225000.0</td>\n      <td>450000.0</td>\n      <td>25128.0</td>\n      <td>450000.0</td>\n      <td>Family</td>\n      <td>...</td>\n      <td>0</td>\n      <td>0</td>\n      <td>0</td>\n      <td>0</td>\n      <td>0.0</td>\n      <td>0.0</td>\n      <td>0.0</td>\n      <td>0.0</td>\n      <td>0.0</td>\n      <td>2.0</td>\n    </tr>\n    <tr>\n      <th>456250</th>\n      <td>Cash loans</td>\n      <td>F</td>\n      <td>Y</td>\n      <td>N</td>\n      <td>0</td>\n      <td>135000.0</td>\n      <td>312768.0</td>\n      <td>24709.5</td>\n      <td>270000.0</td>\n      <td>Unaccompanied</td>\n      <td>...</td>\n      <td>0</td>\n      <td>0</td>\n      <td>0</td>\n      <td>0</td>\n      <td>0.0</td>\n      <td>0.0</td>\n      <td>0.0</td>\n      <td>0.0</td>\n      <td>1.0</td>\n      <td>4.0</td>\n    </tr>\n  </tbody>\n</table>\n<p>48744 rows × 120 columns</p>\n</div>"
     },
     "execution_count": 4,
     "metadata": {},
     "output_type": "execute_result"
    }
   ],
   "source": [
    "# testing dataset\n",
    "test_df = pd.read_csv('../../data/raw/home/application_test.csv', index_col='SK_ID_CURR')\n",
    "test_df"
   ],
   "metadata": {
    "collapsed": false,
    "pycharm": {
     "name": "#%%\n"
    }
   }
  },
  {
   "cell_type": "code",
   "execution_count": 5,
   "outputs": [
    {
     "name": "stdout",
     "output_type": "stream",
     "text": [
      "Training dataset contains 307511 records and 121 columns.\n",
      "Testing dataset contains 48744 records and 120 columns.\n"
     ]
    }
   ],
   "source": [
    "# datasets sizes\n",
    "print(f'Training dataset contains {train_df.shape[0]} records and {train_df.shape[1]} columns.')\n",
    "print(f'Testing dataset contains {test_df.shape[0]} records and {test_df.shape[1]} columns.')"
   ],
   "metadata": {
    "collapsed": false,
    "pycharm": {
     "name": "#%%\n"
    }
   }
  },
  {
   "cell_type": "code",
   "execution_count": 6,
   "outputs": [
    {
     "name": "stdout",
     "output_type": "stream",
     "text": [
      "Total training NaNs = 9152465\n",
      "Total Testing NaNs = 1404419\n"
     ]
    }
   ],
   "source": [
    "# check missing values all NaNs\n",
    "print(f'Total training NaNs = {train_df.isnull().sum().sum()}')\n",
    "print(f'Total Testing NaNs = {test_df.isnull().sum().sum()}')"
   ],
   "metadata": {
    "collapsed": false,
    "pycharm": {
     "name": "#%%\n"
    }
   }
  },
  {
   "cell_type": "code",
   "execution_count": 7,
   "outputs": [
    {
     "data": {
      "text/plain": "                      Column  No. of NaNs  % of NaNs in Column\n41           COMMONAREA_MEDI       214865            69.872297\n13            COMMONAREA_AVG       214865            69.872297\n27           COMMONAREA_MODE       214865            69.872297\n49  NONLIVINGAPARTMENTS_MEDI       213514            69.432963\n35  NONLIVINGAPARTMENTS_MODE       213514            69.432963\n..                       ...          ...                  ...\n7               EXT_SOURCE_2          660             0.214626\n1            AMT_GOODS_PRICE          278             0.090403\n0                AMT_ANNUITY           12             0.003902\n5            CNT_FAM_MEMBERS            2             0.000650\n60    DAYS_LAST_PHONE_CHANGE            1             0.000325\n\n[67 rows x 3 columns]",
      "text/html": "<div>\n<style scoped>\n    .dataframe tbody tr th:only-of-type {\n        vertical-align: middle;\n    }\n\n    .dataframe tbody tr th {\n        vertical-align: top;\n    }\n\n    .dataframe thead th {\n        text-align: right;\n    }\n</style>\n<table border=\"1\" class=\"dataframe\">\n  <thead>\n    <tr style=\"text-align: right;\">\n      <th></th>\n      <th>Column</th>\n      <th>No. of NaNs</th>\n      <th>% of NaNs in Column</th>\n    </tr>\n  </thead>\n  <tbody>\n    <tr>\n      <th>41</th>\n      <td>COMMONAREA_MEDI</td>\n      <td>214865</td>\n      <td>69.872297</td>\n    </tr>\n    <tr>\n      <th>13</th>\n      <td>COMMONAREA_AVG</td>\n      <td>214865</td>\n      <td>69.872297</td>\n    </tr>\n    <tr>\n      <th>27</th>\n      <td>COMMONAREA_MODE</td>\n      <td>214865</td>\n      <td>69.872297</td>\n    </tr>\n    <tr>\n      <th>49</th>\n      <td>NONLIVINGAPARTMENTS_MEDI</td>\n      <td>213514</td>\n      <td>69.432963</td>\n    </tr>\n    <tr>\n      <th>35</th>\n      <td>NONLIVINGAPARTMENTS_MODE</td>\n      <td>213514</td>\n      <td>69.432963</td>\n    </tr>\n    <tr>\n      <th>...</th>\n      <td>...</td>\n      <td>...</td>\n      <td>...</td>\n    </tr>\n    <tr>\n      <th>7</th>\n      <td>EXT_SOURCE_2</td>\n      <td>660</td>\n      <td>0.214626</td>\n    </tr>\n    <tr>\n      <th>1</th>\n      <td>AMT_GOODS_PRICE</td>\n      <td>278</td>\n      <td>0.090403</td>\n    </tr>\n    <tr>\n      <th>0</th>\n      <td>AMT_ANNUITY</td>\n      <td>12</td>\n      <td>0.003902</td>\n    </tr>\n    <tr>\n      <th>5</th>\n      <td>CNT_FAM_MEMBERS</td>\n      <td>2</td>\n      <td>0.000650</td>\n    </tr>\n    <tr>\n      <th>60</th>\n      <td>DAYS_LAST_PHONE_CHANGE</td>\n      <td>1</td>\n      <td>0.000325</td>\n    </tr>\n  </tbody>\n</table>\n<p>67 rows × 3 columns</p>\n</div>"
     },
     "execution_count": 7,
     "metadata": {},
     "output_type": "execute_result"
    }
   ],
   "source": [
    "# Only columns with NaNs count and percentage\n",
    "columns = train_df.isnull().sum()[train_df.isnull().sum() != 0].keys()\n",
    "nans_count = train_df.isnull().sum()[train_df.isnull().sum() != 0].values\n",
    "nans_percentage = train_df.isnull().sum()[train_df.isnull().sum() != 0].values/train_df.shape[0]\n",
    "\n",
    "# create a dataframe from the extracted info.\n",
    "nans_df = pd.DataFrame({'Column':columns, 'No. of NaNs':nans_count, '% of NaNs in Column':nans_percentage*100})\n",
    "nans_df = nans_df.sort_values(by='% of NaNs in Column', ascending=False)\n",
    "nans_df"
   ],
   "metadata": {
    "collapsed": false,
    "pycharm": {
     "name": "#%%\n"
    }
   }
  },
  {
   "cell_type": "code",
   "execution_count": 8,
   "outputs": [
    {
     "data": {
      "text/plain": "<matplotlib.axes._subplots.AxesSubplot at 0x1271e3b2d88>"
     },
     "execution_count": 8,
     "metadata": {},
     "output_type": "execute_result"
    },
    {
     "data": {
      "text/plain": "<Figure size 1800x720 with 2 Axes>",
      "image/png": "[encoded data removed]"
     },
     "metadata": {
      "needs_background": "light"
     },
     "output_type": "display_data"
    }
   ],
   "source": [
    "# visualize columns with NaNs distribution over target\n",
    "msno.matrix(train_df[list(columns)+['TARGET']].sort_values(by='TARGET'))"
   ],
   "metadata": {
    "collapsed": false,
    "pycharm": {
     "name": "#%%\n"
    }
   }
  },
  {
   "cell_type": "code",
   "execution_count": 9,
   "outputs": [
    {
     "data": {
      "text/plain": "0"
     },
     "execution_count": 9,
     "metadata": {},
     "output_type": "execute_result"
    }
   ],
   "source": [
    "# check duplicates\n",
    "# sum of all duplicated records in data\n",
    "train_df.duplicated().sum()"
   ],
   "metadata": {
    "collapsed": false,
    "pycharm": {
     "name": "#%%\n"
    }
   }
  },
  {
   "cell_type": "code",
   "execution_count": 10,
   "outputs": [
    {
     "name": "stdout",
     "output_type": "stream",
     "text": [
      "Count of Each Class\n",
      "--------------------\n",
      "0    282686\n",
      "1     24825\n",
      "Name: TARGET, dtype: int64\n"
     ]
    }
   ],
   "source": [
    "# target value counts per each class\n",
    "print('Count of Each Class\\n' + '-'*20)\n",
    "print(train_df['TARGET'].value_counts())"
   ],
   "metadata": {
    "collapsed": false,
    "pycharm": {
     "name": "#%%\n"
    }
   }
  },
  {
   "cell_type": "code",
   "execution_count": 11,
   "outputs": [
    {
     "data": {
      "text/plain": "<Figure size 432x288 with 1 Axes>",
      "image/png": "[encoded data removed]"
     },
     "metadata": {
      "needs_background": "light"
     },
     "output_type": "display_data"
    }
   ],
   "source": [
    "# visualize TARGET value counts\n",
    "train_df['TARGET'].value_counts().plot(kind='bar');\n",
    "plt.title('Target Classes Value Counts')\n",
    "plt.xlabel('Target')\n",
    "plt.ylabel('Count')\n",
    "plt.show()"
   ],
   "metadata": {
    "collapsed": false,
    "pycharm": {
     "name": "#%%\n"
    }
   }
  },
  {
   "cell_type": "code",
   "execution_count": 12,
   "outputs": [
    {
     "data": {
      "text/plain": "float64    65\nint64      40\nobject     16\ndtype: int64"
     },
     "execution_count": 12,
     "metadata": {},
     "output_type": "execute_result"
    }
   ],
   "source": [
    "# all columns dtypes\n",
    "train_df.dtypes.value_counts()"
   ],
   "metadata": {
    "collapsed": false,
    "pycharm": {
     "name": "#%%\n"
    }
   }
  },
  {
   "cell_type": "code",
   "execution_count": 13,
   "outputs": [
    {
     "data": {
      "text/plain": "                        Column  No. of Unique Values  \\\n0           NAME_CONTRACT_TYPE                     2   \n2                 FLAG_OWN_CAR                     2   \n3              FLAG_OWN_REALTY                     2   \n15         EMERGENCYSTATE_MODE                     2   \n1                  CODE_GENDER                     3   \n13              HOUSETYPE_MODE                     3   \n12          FONDKAPREMONT_MODE                     4   \n6          NAME_EDUCATION_TYPE                     5   \n7           NAME_FAMILY_STATUS                     6   \n8            NAME_HOUSING_TYPE                     6   \n4              NAME_TYPE_SUITE                     7   \n10  WEEKDAY_APPR_PROCESS_START                     7   \n14          WALLSMATERIAL_MODE                     7   \n5             NAME_INCOME_TYPE                     8   \n9              OCCUPATION_TYPE                    18   \n11           ORGANIZATION_TYPE                    58   \n\n                                        Unique Values  \n0                       [Cash loans, Revolving loans]  \n2                                              [N, Y]  \n3                                              [Y, N]  \n15                                     [No, nan, Yes]  \n1                                         [M, F, XNA]  \n13  [block of flats, nan, terraced house, specific...  \n12  [reg oper account, nan, org spec account, reg ...  \n6   [Secondary / secondary special, Higher educati...  \n7   [Single / not married, Married, Civil marriage...  \n8   [House / apartment, Rented apartment, With par...  \n4   [Unaccompanied, Family, Spouse, partner, Child...  \n10  [WEDNESDAY, MONDAY, THURSDAY, SUNDAY, SATURDAY...  \n14  [Stone, brick, Block, nan, Panel, Mixed, Woode...  \n5   [Working, State servant, Commercial associate,...  \n9   [Laborers, Core staff, Accountants, Managers, ...  \n11  [Business Entity Type 3, School, Government, R...  ",
      "text/html": "<div>\n<style scoped>\n    .dataframe tbody tr th:only-of-type {\n        vertical-align: middle;\n    }\n\n    .dataframe tbody tr th {\n        vertical-align: top;\n    }\n\n    .dataframe thead th {\n        text-align: right;\n    }\n</style>\n<table border=\"1\" class=\"dataframe\">\n  <thead>\n    <tr style=\"text-align: right;\">\n      <th></th>\n      <th>Column</th>\n      <th>No. of Unique Values</th>\n      <th>Unique Values</th>\n    </tr>\n  </thead>\n  <tbody>\n    <tr>\n      <th>0</th>\n      <td>NAME_CONTRACT_TYPE</td>\n      <td>2</td>\n      <td>[Cash loans, Revolving loans]</td>\n    </tr>\n    <tr>\n      <th>2</th>\n      <td>FLAG_OWN_CAR</td>\n      <td>2</td>\n      <td>[N, Y]</td>\n    </tr>\n    <tr>\n      <th>3</th>\n      <td>FLAG_OWN_REALTY</td>\n      <td>2</td>\n      <td>[Y, N]</td>\n    </tr>\n    <tr>\n      <th>15</th>\n      <td>EMERGENCYSTATE_MODE</td>\n      <td>2</td>\n      <td>[No, nan, Yes]</td>\n    </tr>\n    <tr>\n      <th>1</th>\n      <td>CODE_GENDER</td>\n      <td>3</td>\n      <td>[M, F, XNA]</td>\n    </tr>\n    <tr>\n      <th>13</th>\n      <td>HOUSETYPE_MODE</td>\n      <td>3</td>\n      <td>[block of flats, nan, terraced house, specific...</td>\n    </tr>\n    <tr>\n      <th>12</th>\n      <td>FONDKAPREMONT_MODE</td>\n      <td>4</td>\n      <td>[reg oper account, nan, org spec account, reg ...</td>\n    </tr>\n    <tr>\n      <th>6</th>\n      <td>NAME_EDUCATION_TYPE</td>\n      <td>5</td>\n      <td>[Secondary / secondary special, Higher educati...</td>\n    </tr>\n    <tr>\n      <th>7</th>\n      <td>NAME_FAMILY_STATUS</td>\n      <td>6</td>\n      <td>[Single / not married, Married, Civil marriage...</td>\n    </tr>\n    <tr>\n      <th>8</th>\n      <td>NAME_HOUSING_TYPE</td>\n      <td>6</td>\n      <td>[House / apartment, Rented apartment, With par...</td>\n    </tr>\n    <tr>\n      <th>4</th>\n      <td>NAME_TYPE_SUITE</td>\n      <td>7</td>\n      <td>[Unaccompanied, Family, Spouse, partner, Child...</td>\n    </tr>\n    <tr>\n      <th>10</th>\n      <td>WEEKDAY_APPR_PROCESS_START</td>\n      <td>7</td>\n      <td>[WEDNESDAY, MONDAY, THURSDAY, SUNDAY, SATURDAY...</td>\n    </tr>\n    <tr>\n      <th>14</th>\n      <td>WALLSMATERIAL_MODE</td>\n      <td>7</td>\n      <td>[Stone, brick, Block, nan, Panel, Mixed, Woode...</td>\n    </tr>\n    <tr>\n      <th>5</th>\n      <td>NAME_INCOME_TYPE</td>\n      <td>8</td>\n      <td>[Working, State servant, Commercial associate,...</td>\n    </tr>\n    <tr>\n      <th>9</th>\n      <td>OCCUPATION_TYPE</td>\n      <td>18</td>\n      <td>[Laborers, Core staff, Accountants, Managers, ...</td>\n    </tr>\n    <tr>\n      <th>11</th>\n      <td>ORGANIZATION_TYPE</td>\n      <td>58</td>\n      <td>[Business Entity Type 3, School, Government, R...</td>\n    </tr>\n  </tbody>\n</table>\n</div>"
     },
     "execution_count": 13,
     "metadata": {},
     "output_type": "execute_result"
    }
   ],
   "source": [
    "# go deeper with object columns and extract the unique classes in each column\n",
    "## create a dataframe with object dtype columns\n",
    "unique_df = pd.DataFrame(train_df.select_dtypes('object').nunique()).reset_index()\n",
    "unique_df.columns = ['Column','No. of Unique Values']\n",
    "\n",
    "## extract the unique classes in each column\n",
    "unique_df['Unique Values'] = unique_df['Column'].apply(lambda x: train_df[x].unique())\n",
    "unique_df.sort_values(by='No. of Unique Values')"
   ],
   "metadata": {
    "collapsed": false,
    "pycharm": {
     "name": "#%%\n"
    }
   }
  },
  {
   "cell_type": "code",
   "execution_count": 14,
   "outputs": [
    {
     "name": "stdout",
     "output_type": "stream",
     "text": [
      "Train Dataset\n",
      "F      202448\n",
      "M      105059\n",
      "XNA         4\n",
      "Name: CODE_GENDER, dtype: int64\n",
      "\n",
      "Test Dataset\n",
      "F    32678\n",
      "M    16066\n",
      "Name: CODE_GENDER, dtype: int64\n"
     ]
    }
   ],
   "source": [
    "# check CODE_GENDER column in training and testing datasets\n",
    "print('Train Dataset')\n",
    "print(train_df['CODE_GENDER'].value_counts())\n",
    "\n",
    "print('\\nTest Dataset')\n",
    "print(test_df['CODE_GENDER'].value_counts())"
   ],
   "metadata": {
    "collapsed": false,
    "pycharm": {
     "name": "#%%\n"
    }
   }
  },
  {
   "cell_type": "code",
   "execution_count": 15,
   "outputs": [
    {
     "name": "stdout",
     "output_type": "stream",
     "text": [
      "Top 5 Columns with Positive Correlation with TARGET\n",
      " --------------------------------------------------\n",
      "DAYS_LAST_PHONE_CHANGE         0.055218\n",
      "REGION_RATING_CLIENT           0.058899\n",
      "REGION_RATING_CLIENT_W_CITY    0.060893\n",
      "DAYS_BIRTH                     0.078239\n",
      "TARGET                         1.000000\n",
      "Name: TARGET, dtype: float64\n",
      "\n",
      "Top 5 Columns with Negative Correlation with TARGET\n",
      " --------------------------------------------------\n",
      "EXT_SOURCE_3    -0.178919\n",
      "EXT_SOURCE_2    -0.160472\n",
      "EXT_SOURCE_1    -0.155317\n",
      "DAYS_EMPLOYED   -0.044932\n",
      "FLOORSMAX_AVG   -0.044003\n",
      "Name: TARGET, dtype: float64\n"
     ]
    }
   ],
   "source": [
    "# Top 5 Columns with Positive Correlation with our TARGET\n",
    "print('Top 5 Columns with Positive Correlation with TARGET\\n', '-'*50)\n",
    "print(train_df.corr()['TARGET'].sort_values().tail(5))\n",
    "\n",
    "# Negative ones\n",
    "print('\\nTop 5 Columns with Negative Correlation with TARGET\\n', '-'*50)\n",
    "print(train_df.corr()['TARGET'].sort_values().head(5))"
   ],
   "metadata": {
    "collapsed": false,
    "pycharm": {
     "name": "#%%\n"
    }
   }
  },
  {
   "cell_type": "markdown",
   "source": [
    "### Let's skip the data analysis part and go to the data cleaning and preproc!!!!!"
   ],
   "metadata": {
    "collapsed": false,
    "pycharm": {
     "name": "#%% md\n"
    }
   }
  },
  {
   "cell_type": "code",
   "execution_count": 16,
   "outputs": [],
   "source": [
    "# before start cleaning, we keep copy of datasets\n",
    "train_copy = train_df.copy()\n",
    "test_copy = test_df.copy()"
   ],
   "metadata": {
    "collapsed": false,
    "pycharm": {
     "name": "#%%\n"
    }
   }
  },
  {
   "cell_type": "markdown",
   "source": [
    "## Drop rows with Nans > 40%"
   ],
   "metadata": {
    "collapsed": false,
    "pycharm": {
     "name": "#%% md\n"
    }
   }
  },
  {
   "cell_type": "code",
   "execution_count": 17,
   "outputs": [],
   "source": [
    "# extract these columns from nans_df\n",
    "drop_cols = nans_df[nans_df['% of NaNs in Column']>40]['Column'].tolist()\n",
    "keep_cols = [col for col in train_df.columns if col not in drop_cols]\n",
    "\n",
    "# extract the new train dataframe\n",
    "train_df = train_df[keep_cols]\n",
    "\n",
    "# remove Target from keep_cols and create the new test dataframe\n",
    "keep_cols.remove('TARGET')\n",
    "test_df = test_df[keep_cols]"
   ],
   "metadata": {
    "collapsed": false,
    "pycharm": {
     "name": "#%%\n"
    }
   }
  },
  {
   "cell_type": "code",
   "execution_count": 18,
   "outputs": [
    {
     "name": "stdout",
     "output_type": "stream",
     "text": [
      "(307511, 72)\n",
      "(48744, 71)\n"
     ]
    }
   ],
   "source": [
    "# check the new datasets shapes\n",
    "print(train_df.shape)\n",
    "print(test_df.shape)"
   ],
   "metadata": {
    "collapsed": false,
    "pycharm": {
     "name": "#%%\n"
    }
   }
  },
  {
   "cell_type": "markdown",
   "source": [
    "#### Drop XNA records from CODE_GENDER column"
   ],
   "metadata": {
    "collapsed": false,
    "pycharm": {
     "name": "#%% md\n"
    }
   }
  },
  {
   "cell_type": "code",
   "execution_count": 19,
   "outputs": [
    {
     "data": {
      "text/plain": "F    202448\nM    105059\nName: CODE_GENDER, dtype: int64"
     },
     "execution_count": 19,
     "metadata": {},
     "output_type": "execute_result"
    }
   ],
   "source": [
    "# extract all records doesn't have XNA value in CODE_GENDER column\n",
    "train_df = train_df[train_df['CODE_GENDER']!='XNA']\n",
    "\n",
    "# check\n",
    "train_df['CODE_GENDER'].value_counts()"
   ],
   "metadata": {
    "collapsed": false,
    "pycharm": {
     "name": "#%%\n"
    }
   }
  },
  {
   "cell_type": "markdown",
   "source": [
    "## Drop the wrong value in AMT_INCOME_TOTAL column"
   ],
   "metadata": {
    "collapsed": false,
    "pycharm": {
     "name": "#%% md\n"
    }
   }
  },
  {
   "cell_type": "code",
   "execution_count": 20,
   "outputs": [],
   "source": [
    "train_df = train_df[train_df['AMT_INCOME_TOTAL'] != 117000000.0]"
   ],
   "metadata": {
    "collapsed": false,
    "pycharm": {
     "name": "#%%\n"
    }
   }
  },
  {
   "cell_type": "code",
   "execution_count": 21,
   "outputs": [
    {
     "name": "stderr",
     "output_type": "stream",
     "text": [
      "D:\\Software\\anaconda3\\envs\\newtf115\\lib\\site-packages\\ipykernel_launcher.py:3: SettingWithCopyWarning: \n",
      "A value is trying to be set on a copy of a slice from a DataFrame.\n",
      "Try using .loc[row_indexer,col_indexer] = value instead\n",
      "\n",
      "See the caveats in the documentation: https://pandas.pydata.org/pandas-docs/stable/user_guide/indexing.html#returning-a-view-versus-a-copy\n",
      "  This is separate from the ipykernel package so we can avoid doing imports until\n"
     ]
    }
   ],
   "source": [
    "# DAYS_EMPLOYED column\n",
    "train_df['DAYS_EMPLOYED'] = train_df['DAYS_EMPLOYED'].apply(lambda x: np.nan if x==365243 else x)\n",
    "test_df['DAYS_EMPLOYED'] = test_df['DAYS_EMPLOYED'].apply(lambda x: np.nan if x==365243 else x)"
   ],
   "metadata": {
    "collapsed": false,
    "pycharm": {
     "name": "#%%\n"
    }
   }
  },
  {
   "cell_type": "code",
   "execution_count": 22,
   "outputs": [
    {
     "name": "stdout",
     "output_type": "stream",
     "text": [
      "0.0\n",
      "-1.0\n"
     ]
    }
   ],
   "source": [
    "# check\n",
    "print(train_df['DAYS_EMPLOYED'].max())\n",
    "print(test_df['DAYS_EMPLOYED'].max())"
   ],
   "metadata": {
    "collapsed": false,
    "pycharm": {
     "name": "#%%\n"
    }
   }
  },
  {
   "cell_type": "code",
   "execution_count": 23,
   "outputs": [
    {
     "name": "stderr",
     "output_type": "stream",
     "text": [
      "D:\\Software\\anaconda3\\envs\\newtf115\\lib\\site-packages\\ipykernel_launcher.py:3: SettingWithCopyWarning: \n",
      "A value is trying to be set on a copy of a slice from a DataFrame.\n",
      "Try using .loc[row_indexer,col_indexer] = value instead\n",
      "\n",
      "See the caveats in the documentation: https://pandas.pydata.org/pandas-docs/stable/user_guide/indexing.html#returning-a-view-versus-a-copy\n",
      "  This is separate from the ipykernel package so we can avoid doing imports until\n"
     ]
    }
   ],
   "source": [
    "# DAYS_LAST_PHONE_CHANGE column\n",
    "train_df['DAYS_LAST_PHONE_CHANGE'] = train_df['DAYS_LAST_PHONE_CHANGE'].apply(lambda x: np.nan if x==0.0 else x)\n",
    "test_df['DAYS_LAST_PHONE_CHANGE'] = test_df['DAYS_LAST_PHONE_CHANGE'].apply(lambda x: np.nan if x==0.0 else x)"
   ],
   "metadata": {
    "collapsed": false,
    "pycharm": {
     "name": "#%%\n"
    }
   }
  },
  {
   "cell_type": "code",
   "execution_count": 24,
   "outputs": [
    {
     "name": "stdout",
     "output_type": "stream",
     "text": [
      "-1.0\n",
      "-1.0\n"
     ]
    }
   ],
   "source": [
    "# check\n",
    "print(train_df['DAYS_LAST_PHONE_CHANGE'].max())\n",
    "print(test_df['DAYS_LAST_PHONE_CHANGE'].max())"
   ],
   "metadata": {
    "collapsed": false,
    "pycharm": {
     "name": "#%%\n"
    }
   }
  },
  {
   "cell_type": "code",
   "execution_count": 25,
   "outputs": [],
   "source": [
    "# create a pipeline to deal with numerical features\n",
    "## 1- impute with median as most of features cotain outliers\n",
    "## 2- apply Min-Max Scaler get rid of the outliers\n",
    "numeric_transformer = Pipeline(\n",
    "    steps=[(\"num_imputer\", SimpleImputer(strategy=\"median\")), (\"scaler\", MinMaxScaler())]\n",
    ")"
   ],
   "metadata": {
    "collapsed": false,
    "pycharm": {
     "name": "#%%\n"
    }
   }
  },
  {
   "cell_type": "code",
   "execution_count": 26,
   "outputs": [],
   "source": [
    "# create a pipeline to deal with catagorical features\n",
    "## 1- impute with the most frequent class \"mode\"\n",
    "## 2- apply One-Hot Encoding\n",
    "categorical_transformer = Pipeline(\n",
    "    steps=[(\"cat_imputer\", SimpleImputer(strategy=\"most_frequent\")), (\"encoder\", OneHotEncoder(handle_unknown='ignore', drop='first'))]\n",
    ")"
   ],
   "metadata": {
    "collapsed": false,
    "pycharm": {
     "name": "#%%\n"
    }
   }
  },
  {
   "cell_type": "code",
   "execution_count": 27,
   "outputs": [],
   "source": [
    "# create a column transformer instant\n",
    "preprocessor = ColumnTransformer(\n",
    "    transformers=[\n",
    "        (\"num\", numeric_transformer, make_column_selector(dtype_exclude=\"object\")),\n",
    "        (\"cat\", categorical_transformer, make_column_selector(dtype_include=\"object\")),\n",
    "    ]\n",
    ")"
   ],
   "metadata": {
    "collapsed": false,
    "pycharm": {
     "name": "#%%\n"
    }
   }
  },
  {
   "cell_type": "code",
   "execution_count": 28,
   "outputs": [],
   "source": [
    "# separate target out of features \"predictors\"\n",
    "X = train_df.drop('TARGET', axis=1)\n",
    "y = train_df['TARGET']"
   ],
   "metadata": {
    "collapsed": false,
    "pycharm": {
     "name": "#%%\n"
    }
   }
  },
  {
   "cell_type": "code",
   "execution_count": 29,
   "outputs": [],
   "source": [
    "# data splitting\n",
    "X_train, X_val, y_train, y_val = train_test_split(X, y, train_size=0.8, stratify=y, random_state=42)"
   ],
   "metadata": {
    "collapsed": false,
    "pycharm": {
     "name": "#%%\n"
    }
   }
  },
  {
   "cell_type": "code",
   "execution_count": 30,
   "outputs": [],
   "source": [
    "\n",
    "X_train.to_csv('home_x_train.csv')\n",
    "X_val.to_csv('home_x_val.csv')\n"
   ],
   "metadata": {
    "collapsed": false,
    "pycharm": {
     "name": "#%%\n"
    }
   }
  },
  {
   "cell_type": "code",
   "execution_count": 31,
   "outputs": [],
   "source": [
    "train_df.to_csv('home.csv')"
   ],
   "metadata": {
    "collapsed": false,
    "pycharm": {
     "name": "#%%\n"
    }
   }
  },
  {
   "cell_type": "code",
   "execution_count": 32,
   "outputs": [],
   "source": [
    "# create a function for trained models evaluation\n",
    "def evaluate_model(model_pipeline):\n",
    "    # prediction\n",
    "    train_pred = model_pipeline.predict(X_train)\n",
    "    test_pred = model_pipeline.predict(X_val)\n",
    "\n",
    "    train_pred_proba = model_pipeline.predict_proba(X_train)\n",
    "    test_pred_proba = model_pipeline.predict_proba(X_val)\n",
    "\n",
    "    # evaluations\n",
    "    print('Training & Validation ROC AUC Scores:\\n', '-'*40)\n",
    "    print('Training   roc auc score= {:.4f}'.format(roc_auc_score(y_train, train_pred_proba[:, 1])))\n",
    "    print('Validation roc auc score= {:.4f}'.format(roc_auc_score(y_val, test_pred_proba[:, 1])))\n",
    "    print('')\n",
    "    print('Training & Validation Confusion Metrices:')\n",
    "    print('Training   confusion matrix:\\n', confusion_matrix(y_train, train_pred))\n",
    "    print('Validation confusion matrix:\\n', confusion_matrix(y_val, test_pred))"
   ],
   "metadata": {
    "collapsed": false,
    "pycharm": {
     "name": "#%%\n"
    }
   }
  },
  {
   "cell_type": "code",
   "execution_count": null,
   "outputs": [],
   "source": [
    "## create model instant and pipeline\n",
    "rf = RandomForestClassifier(n_estimators=100, max_depth=25, random_state=42)\n",
    "rf_pipe1 = Pipeline(steps=[(\"preprocessor\", preprocessor), (\"classifier\", rf)])\n",
    "\n",
    "# train model\n",
    "rf_pipe1.fit(X_train, y_train)\n",
    "\n",
    "# evaluate model\n",
    "evaluate_model(rf_pipe1)"
   ],
   "metadata": {
    "collapsed": false,
    "pycharm": {
     "name": "#%%\n"
    }
   }
  },
  {
   "cell_type": "code",
   "execution_count": null,
   "outputs": [],
   "source": [
    "# create model instant and pipeline\n",
    "adaboost = AdaBoostClassifier(n_estimators=200, random_state=42)\n",
    "ada_pipe1 = Pipeline(steps=[(\"preprocessor\", preprocessor), (\"classifier\", adaboost)])\n",
    "\n",
    "# train model\n",
    "ada_pipe1.fit(X_train, y_train)\n",
    "\n",
    "# evaluate model\n",
    "evaluate_model(ada_pipe1)"
   ],
   "metadata": {
    "collapsed": false,
    "pycharm": {
     "name": "#%%\n"
    }
   }
  }
 ],
 "metadata": {
  "kernelspec": {
   "display_name": "Python 3",
   "language": "python",
   "name": "python3"
  },
  "language_info": {
   "codemirror_mode": {
    "name": "ipython",
    "version": 2
   },
   "file_extension": ".py",
   "mimetype": "text/x-python",
   "name": "python",
   "nbconvert_exporter": "python",
   "pygments_lexer": "ipython2",
   "version": "2.7.6"
  }
 },
 "nbformat": 4,
 "nbformat_minor": 0
}